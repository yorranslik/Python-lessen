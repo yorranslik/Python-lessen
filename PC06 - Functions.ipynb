{
 "cells": [
  {
   "cell_type": "markdown",
   "metadata": {},
   "source": [
    "# Chapter 6 - Functions"
   ]
  },
  {
   "cell_type": "markdown",
   "metadata": {},
   "source": [
    "-------------------------------"
   ]
  },
  {
   "cell_type": "markdown",
   "metadata": {},
   "source": [
    "Welcome to week2! Up to this point, we have already introduced some basic \"functions\", such as `print()` and `int()`. In this chapter  functions will be discussed a bit more in-depth, and we will teach you how to create your own functions. This chapter is lengthy, and very important! So please get your cup of coffee ready, and start acing it!\n",
    "\n",
    "A function is a block of reusable code that performs some action. To get a function to do its job, you \"call\" it, with some appropriate parameters if the function requires them. The idea is that you do not need to have knowledge about <i>how</i> a function performs its action. You only need to know three things:\n",
    "\n",
    "- The name of the function\n",
    "- The parameters it needs (if any)\n",
    "- The value it returns (if any)\n",
    "\n",
    "You'll see this in exmples below!"
   ]
  },
  {
   "cell_type": "markdown",
   "metadata": {},
   "source": [
    "-------------------------------"
   ]
  },
  {
   "cell_type": "markdown",
   "metadata": {},
   "source": [
    "### A function is a black box"
   ]
  },
  {
   "cell_type": "markdown",
   "metadata": {},
   "source": [
    "Let us stress once more that you may consider a function as a \"black box\": you do not need to know <i>how</i> the function works or <i>how</i> it is implemented. The name, parameters, and return value are all you need to know. The function might, internally, create variables and do calculations, but they do not have an effect on the rest of your code... at least if the function is implemented well.\n"
   ]
  },
  {
   "cell_type": "markdown",
   "metadata": {},
   "source": [
    "## Creating functions"
   ]
  },
  {
   "cell_type": "markdown",
   "metadata": {},
   "source": [
    "As stated above, a function needs three things, although some can be left blank. When you create your own functions, you need to define the name of the function, its parameters, and the value it returns. To create a function, you use the following syntax:\n",
    "\n",
    "    def <function_name>( <parameter_list> ):\n",
    "        <statements>\n",
    "\n",
    "The function name must meet the same requirements as variable names, i.e., only letters, digits, and underscores, and it cannot start with a digit. \n",
    "\n",
    "The parameter list consists of zero or more variable names, with commas in between.\n",
    "\n",
    "The code block below the function definition must be indented.\n",
    "\n",
    "Finally, be aware that Python must have \"seen\" your function definition before it sees the call to it in your code. Therefore it is convention to place all function definitions at the top of a program."
   ]
  },
  {
   "cell_type": "markdown",
   "metadata": {},
   "source": [
    "### How Python deals with functions"
   ]
  },
  {
   "cell_type": "markdown",
   "metadata": {},
   "source": [
    "To be able to create functions, you have to know how Python deals with functions.\n",
    "\n",
    "Look at the small Python program below. It defines one function, called `goodbyeWorld()`. That function has no parameters. The code block for the function prints the line \"Goodbye, world!\".\n",
    "\n",
    "The rest of the program is not part of a function. We often call the parts of a program that are not inside a function the \"main\" program. The main program prints the line \"Hello, world!\", and then calls the function `goodbyeWorld()`."
   ]
  },
  {
   "cell_type": "code",
   "execution_count": null,
   "metadata": {},
   "outputs": [],
   "source": [
    "def goodbyeWorld():\n",
    "    print( \"Goodbye, world!\" )\n",
    "\n",
    "print( \"Hello, world!\" )\n",
    "goodbyeWorld()"
   ]
  },
  {
   "cell_type": "markdown",
   "metadata": {},
   "source": [
    "When you run this program, you see that it first prints \"Hello, world!\", and then \"Goodbye, world!\". This happens *even* though Python processes code top-down, so that it sees the line `print( \"Goodbye, world!\" )` before it sees the line `print( \"Hello, world!\" )`. This is because Python does not actually run the code inside functions, at least, not until the moment that the function gets called. Python does not even look at the code in functions. It just notices the function name, registers that that function is defined so that it can be used, and then continues, searching for the main program to run. "
   ]
  },
  {
   "cell_type": "markdown",
   "metadata": {},
   "source": [
    "### Parameters and arguments"
   ]
  },
  {
   "cell_type": "markdown",
   "metadata": {},
   "source": [
    "Examine the code below. It defines a function `hello()` with one parameter, which is called `name`. The function uses the variable `name` in the code block. There is no explicit assignment of the variable name, it exists because it is a parameter of the function.\n",
    "\n",
    "When a function is called, you must provide a value for every (mandatory) parameter that is defined for the function. Such a value is called an \"argument\". Therefore, to call the function `hello()`, you must provide an argument for the parameter `name`. You place this argument between the parentheses of the function call. Note that in your main program you do not need to know that this parameter is called `name`. What it is called is unimportant. The only thing you need to know is that there is a parameter that needs a value, and preferably what kind of value the function is expecting (i.e., what the author of the function expects you to provide)."
   ]
  },
  {
   "cell_type": "code",
   "execution_count": null,
   "metadata": {},
   "outputs": [],
   "source": [
    "def hello( name ):\n",
    "    print( \"Hello, \"+ name ) \n",
    "    \n",
    "hello( \"Adrian\" )\n",
    "hello( \"Binky\" )\n",
    "hello( \"Caroline\" )\n",
    "hello( \"Dante\" )"
   ]
  },
  {
   "cell_type": "markdown",
   "metadata": {},
   "source": [
    "The parameters of a function are no more and no less than variables that you can use in the function, and  get their value from outside the function (namely by a function call). The parameters are \"local\" to the function, i.e., they are not accessible outside the code block of the function, nor do they influence any variable values outside the function. More on that in Chapter 7.\n",
    "\n",
    "Functions can have multiple parameters. For example, the following function multiplies two parameters and prints the result:"
   ]
  },
  {
   "cell_type": "code",
   "execution_count": null,
   "metadata": {},
   "outputs": [],
   "source": [
    "def multiply( x, y ):\n",
    "    result = x * y\n",
    "    print( result )\n",
    "       \n",
    "multiply( 2020, 5278238 )\n",
    "multiply( 2, 3 )"
   ]
  },
  {
   "cell_type": "markdown",
   "metadata": {},
   "source": [
    "### `return`"
   ]
  },
  {
   "cell_type": "markdown",
   "metadata": {},
   "source": [
    "Parameters can be used to communicate information from outside a function to the code block of the function. Often, you also want function to communicate information to the program that is outside the function. The keyword `return` accomplishes this.\n",
    "\n",
    "When you use the command `return` in a function, that ends the processing of the function, and Python will continue with the code that needs to be executed after the call to the function. You can put one or more values or variables after the `return` statement. These values, and values of variables, are communicated to the program outside the function. If you want to use them outside the function, you can put them into a variable when you assign the call to the function to that variable.\n",
    "\n",
    "If this sounds a bit convoluted, it will probably become clear after studying the following example:"
   ]
  },
  {
   "cell_type": "code",
   "execution_count": null,
   "metadata": {},
   "outputs": [],
   "source": [
    "def square( a ):\n",
    "    return a*a \n",
    "\n",
    "c = square( 3 )\n",
    "print( c )"
   ]
  },
  {
   "cell_type": "markdown",
   "metadata": {},
   "source": [
    "The function `square()` calculates the square of its only parameter. Then it returns that value, using the `return` statement. The main program \"captures\" the value by assigning it to variable `c`, then prints the contents of `c`.\n",
    "\n",
    "Note that the `return` statement in the example above has a complete calculation with it. That calculation is done in the function, which leads to a value. It is the result of the calculation, i.e., the value, which is returned to the main program.\n",
    "\n",
    "Note that every line of code in the function that occurs immediately after a `return` at the same level of indentation will always be ignored. E.g., in the function:"
   ]
  },
  {
   "cell_type": "code",
   "execution_count": null,
   "metadata": {},
   "outputs": [],
   "source": [
    "def square( a ):\n",
    "    return a*a \n",
    "    print( \"This line will never be printed\" )\n",
    "\n",
    "c = square( 3 )\n",
    "print( c )\n"
   ]
  },
  {
   "cell_type": "markdown",
   "metadata": {},
   "source": [
    "the line below `return a*a` clearly states how useless it is."
   ]
  },
  {
   "cell_type": "markdown",
   "metadata": {},
   "source": [
    "### Difference between `return` and `print`"
   ]
  },
  {
   "cell_type": "markdown",
   "metadata": {},
   "source": [
    "Many students struggle with the difference between a function returning a value and a function printing a value. Compare the following two pieces of code:"
   ]
  },
  {
   "cell_type": "code",
   "execution_count": null,
   "metadata": {},
   "outputs": [],
   "source": [
    "def print3():\n",
    "    print( 3 )\n",
    "print3()"
   ]
  },
  {
   "cell_type": "markdown",
   "metadata": {},
   "source": [
    "and:"
   ]
  },
  {
   "cell_type": "code",
   "execution_count": null,
   "metadata": {},
   "outputs": [],
   "source": [
    "def return3():\n",
    "    return 3\n",
    "print( return3() )"
   ]
  },
  {
   "cell_type": "markdown",
   "metadata": {},
   "source": [
    "Both the function `print3()` and `return3()` are called in their respective codes, and result in the printing of the value 3. The difference is that the printing of this value in the case of `print3()` happens in the function, while the function returns nothing, while in the case of `return3()` the function only returns the value 3, which is then printed in the main program. For the user the result of these codes looks the same: both display the number 3. But for the programmer the two functions involved are quite different.\n",
    "\n",
    "The function `print3()` can only be used for one purpose, namely to display the number 3. The function `return3()`, however, can be used wherever we need the number 3, regardless whether we need to display it, use it in a calculation, or assign it to a variable. For instance, the following code raises `2` to the power of `3` and prints the result:"
   ]
  },
  {
   "cell_type": "code",
   "execution_count": null,
   "metadata": {},
   "outputs": [],
   "source": [
    "def return3():\n",
    "    return 3\n",
    "x = 2 ** return3()\n",
    "print( x )"
   ]
  },
  {
   "cell_type": "markdown",
   "metadata": {},
   "source": [
    "On the other hand, the following code leads to a runtime error when executed:"
   ]
  },
  {
   "cell_type": "code",
   "execution_count": null,
   "metadata": {},
   "outputs": [],
   "source": [
    "def print3():\n",
    "    print( 3 )\n",
    "x = 2 ** print3()\n",
    "print( x )"
   ]
  },
  {
   "cell_type": "markdown",
   "metadata": {},
   "source": [
    "The reason is that while `print3()` displays the value of 3 on the screen (you even see it above the runtime error), it does not produce the actual value 3 in such a way that the calculation can use it. The function `print3()` actually returns the special value `None`, which cannot be used in a calculation.\n",
    "\n",
    "So, if you want to create a function that produces a value that can be used in other parts of the program, then the function must `return` that value. If you want to create a function that just displays something on the screen, you can use a `print` statement in the function to do that, but the function does not need to `return` anything."
   ]
  },
  {
   "cell_type": "markdown",
   "metadata": {},
   "source": [
    "-------"
   ]
  },
  {
   "cell_type": "markdown",
   "metadata": {},
   "source": [
    "## Some basic functions"
   ]
  },
  {
   "cell_type": "markdown",
   "metadata": {},
   "source": [
    "At this point, we introduce some basic functions that you can use in your Python programs."
   ]
  },
  {
   "cell_type": "markdown",
   "metadata": {},
   "source": [
    "### Calculations"
   ]
  },
  {
   "cell_type": "markdown",
   "metadata": {},
   "source": [
    "Basic Python functions also have limited support for calculations.\n",
    "\n",
    "- `max()` has two or more numerical parameters, and returns the largest.\n",
    "- `min()` has two or more numerical parameters, and returns the smallest.\n",
    "- `round()` has a numerical parameter and rounds it, mathematically, to a whole number. It has an optional second parameter. The second parameter must be an integer, and if it is provided, the function will round the first parameter to the number of decimals specified by the second parameter.\n",
    "\n",
    "**Exercise**: Examine the code below and try to determine what it displays. Then run the code and see if you are correct."
   ]
  },
  {
   "cell_type": "code",
   "execution_count": null,
   "metadata": {},
   "outputs": [],
   "source": [
    "x = -2\n",
    "y = 3\n",
    "z = 1.27\n",
    "\n",
    "print( max( x, y, z ) )\n",
    "print( min( x, y, z ) )\n",
    "print( round( z, 1 ) )"
   ]
  },
  {
   "cell_type": "markdown",
   "metadata": {},
   "source": [
    "### `len()`"
   ]
  },
  {
   "cell_type": "markdown",
   "metadata": {},
   "source": [
    "`len()` is a basic function that gets one parameter, and it returns the length of that parameter. For now, the only data type which you will use `len()` for is the string. `len()` returns the length of the string, i.e., its number of characters.\n",
    "\n",
    "**Exercise**: What does the code below print? Run it and check if you are correct."
   ]
  },
  {
   "cell_type": "code",
   "execution_count": null,
   "metadata": {},
   "outputs": [],
   "source": [
    "print( len( 'can' ) )\n",
    "print( len( 'cannot ' ) )\n",
    "print( len( '' ) )          # '' is an empty string, i.e., a string with no characters in it."
   ]
  },
  {
   "cell_type": "markdown",
   "metadata": {},
   "source": [
    "-------"
   ]
  },
  {
   "cell_type": "markdown",
   "metadata": {},
   "source": [
    "## Modules"
   ]
  },
  {
   "cell_type": "markdown",
   "metadata": {},
   "source": [
    "Python offers some basic functions, some of which are introduced above. Besides those, Python offers a large assortment of so-called \"modules\", which contain many more useful functions. To use functions from a module in your program, you have to `import` the module, by write a line `import <modulename>` at the top of your code. You can then use all the functions in the module, though you have to precede the function calls with the name of the module and a period, e.g., to call the `sqrt()` function from the `math` module (which calculates the square root of a number), you call `math.sqrt()` after importing `math`.\n",
    "\n",
    "Alternatively, you can import only specific functions from a module, by stating `from <modulename> import <functioname1>, <functionname2>, <functionname3>, ...`. The main advantage of importing specific functions from a module in this way is that in your code, you no longer need to precede the call to a function with the module name.\n",
    "\n",
    "For example:"
   ]
  },
  {
   "cell_type": "code",
   "execution_count": null,
   "metadata": {},
   "outputs": [],
   "source": [
    "import math\n",
    "\n",
    "print( math.sqrt( 4 ) )"
   ]
  },
  {
   "cell_type": "markdown",
   "metadata": {},
   "source": [
    "is equivalent to:"
   ]
  },
  {
   "cell_type": "code",
   "execution_count": null,
   "metadata": {},
   "outputs": [],
   "source": [
    "from math import sqrt\n",
    "\n",
    "print( sqrt( 4 ) )"
   ]
  },
  {
   "cell_type": "markdown",
   "metadata": {},
   "source": [
    "If you want to rename something that you import from a module, you can do so with the keyword `as`. This might be useful when you use multiple modules that contain things with equal names."
   ]
  },
  {
   "cell_type": "code",
   "execution_count": null,
   "metadata": {},
   "outputs": [],
   "source": [
    "from math import sqrt as squareroot\n",
    "\n",
    "print( squareroot( 4 ) )"
   ]
  },
  {
   "cell_type": "markdown",
   "metadata": {},
   "source": [
    "I will now introduce some functions from two standard modules that are often used, and some functions from a module which was developed for this course (you will learn to develop your own modules later). There are many more modules besides the ones introduced here, some of which will come up later in the course, and others which you will have to look up by yourself by the time you need them in practice. However, you may assume that for any more-or-less general problem that you want to solve, someone has made a module that makes solving that problem simple or even trivial. So, in practice, do not start coding immediately, but first investigate whether you can exploit someone else's efforts."
   ]
  },
  {
   "cell_type": "markdown",
   "metadata": {},
   "source": [
    "-------"
   ]
  },
  {
   "cell_type": "markdown",
   "metadata": {},
   "source": [
    "### Calling functions from functions (nested) *"
   ]
  },
  {
   "cell_type": "markdown",
   "metadata": {},
   "source": [
    "Functions are allowed to call other functions, as long as those other functions are known to the calling function. For instance, the following code shows how the function `euclideanDistance()` uses the function `pythagoras()` to calculate the distance between two points in 2-dimensional space."
   ]
  },
  {
   "cell_type": "code",
   "execution_count": 2,
   "metadata": {},
   "outputs": [
    {
     "name": "stdout",
     "output_type": "stream",
     "text": [
      "5.0\n"
     ]
    }
   ],
   "source": [
    "from math import sqrt\n",
    "\n",
    "def pythagoras( a, b ):\n",
    "    if a <= 0 or b <= 0:\n",
    "        return -1\n",
    "    return sqrt( a*a + b*b )\n",
    "\n",
    "def euclideanDistance( x1, y1, x2, y2 ):\n",
    "    return pythagoras( abs( x1 - x2 ), abs( y1 - y2 ) )\n",
    "\n",
    "print( euclideanDistance( 1, 1, 4, 5 ) )"
   ]
  },
  {
   "cell_type": "markdown",
   "metadata": {},
   "source": [
    "`euclideanDistance()` knows `pythagoras()`, because `pythagoras()` was defined before `euclideanDistance()`. It doesn't work the other way around! Keep an eye out for this. \n"
   ]
  },
  {
   "cell_type": "markdown",
   "metadata": {},
   "source": [
    "-------"
   ]
  },
  {
   "cell_type": "markdown",
   "metadata": {},
   "source": [
    "## Exercises"
   ]
  },
  {
   "cell_type": "markdown",
   "metadata": {},
   "source": [
    "### Exercise 6.1"
   ]
  },
  {
   "cell_type": "markdown",
   "metadata": {},
   "source": [
    "Write a function that receives a string as parameter, and returns the length of that string. "
   ]
  },
  {
   "cell_type": "code",
   "execution_count": null,
   "metadata": {},
   "outputs": [],
   "source": [
    "# String length test.\n",
    "def length_text(text):\n",
    "    return # function goes here\n",
    "\n",
    "\n",
    "text = \"Lets give this function a try!\"\n",
    "length_text(text)"
   ]
  },
  {
   "cell_type": "markdown",
   "metadata": {},
   "source": [
    "### Exercise 6.2"
   ]
  },
  {
   "cell_type": "markdown",
   "metadata": {},
   "source": [
    "Write a function called `seconds_in_day` that receives a positive integer `days` as a parameter, and returns the number of seconds in `days`. For example, `seconds_in_day(5)` should return 432000."
   ]
  },
  {
   "cell_type": "code",
   "execution_count": null,
   "metadata": {},
   "outputs": [],
   "source": [
    "def seconds_in_day(days):\n",
    "    return #the number of seconds in 'days'"
   ]
  },
  {
   "cell_type": "markdown",
   "metadata": {},
   "source": [
    "### Exercise 6.3"
   ]
  },
  {
   "cell_type": "markdown",
   "metadata": {},
   "source": [
    "The Pythagorean theorem states that the of a right triangle, the square of the length of the diagonal side is equal to the sum of the squares of the lengths of the other two sides (or `a**2 + b**2` equals `c**2`). \n",
    "\n",
    "Write a function `pythagorean` that takes two parameters `a` and `b` that correspond to lengths of the two sides that meet at a right angle, and returns the length of the third side as a float value. You can assume that the parameters are positive, non-zero values."
   ]
  },
  {
   "cell_type": "code",
   "execution_count": null,
   "metadata": {},
   "outputs": [],
   "source": [
    "# Don't forgot to include any module imports if you require them.\n",
    "\n",
    "def pythagorean(a,b):\n",
    "    return #the length of the third side\n",
    "\n"
   ]
  },
  {
   "cell_type": "markdown",
   "metadata": {},
   "source": [
    "### Exercise 6.4"
   ]
  },
  {
   "cell_type": "markdown",
   "metadata": {},
   "source": [
    "Find the formula online to convert KG to pounds, and make a function that does this calculation for you."
   ]
  },
  {
   "cell_type": "code",
   "execution_count": 2,
   "metadata": {},
   "outputs": [],
   "source": [
    "# Build it from scratch, using an understandble, but legitimate function name."
   ]
  },
  {
   "cell_type": "code",
   "execution_count": null,
   "metadata": {},
   "outputs": [],
   "source": []
  }
 ],
 "metadata": {
  "kernelspec": {
   "display_name": "Python 3",
   "language": "python",
   "name": "python3"
  },
  "language_info": {
   "codemirror_mode": {
    "name": "ipython",
    "version": 3
   },
   "file_extension": ".py",
   "mimetype": "text/x-python",
   "name": "python",
   "nbconvert_exporter": "python",
   "pygments_lexer": "ipython3",
   "version": "3.6.5"
  }
 },
 "nbformat": 4,
 "nbformat_minor": 2
}
