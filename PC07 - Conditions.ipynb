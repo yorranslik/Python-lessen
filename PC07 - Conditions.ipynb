{
 "cells": [
  {
   "cell_type": "markdown",
   "metadata": {},
   "source": [
    "# Chapter 7 - Conditions"
   ]
  },
  {
   "cell_type": "markdown",
   "metadata": {},
   "source": [
    "-------------------------------"
   ]
  },
  {
   "cell_type": "markdown",
   "metadata": {},
   "source": [
    "In program code, there are often statements that you only want to execute when certain conditions hold. Every programming language therefore supports conditional statements. In this chapter we will explain how to use conditions in Python."
   ]
  },
  {
   "cell_type": "markdown",
   "metadata": {},
   "source": [
    "---"
   ]
  },
  {
   "cell_type": "markdown",
   "metadata": {},
   "source": [
    "## Boolean expressions"
   ]
  },
  {
   "cell_type": "markdown",
   "metadata": {},
   "source": [
    "A conditional statement, often called an \"if\"-statement, consists of a test and one or more actions. The test is a so-called \"boolean expression\". The actions are executed when the test evaluates to `True`. For instance, an app on a smartphone might give a warning if the battery level is lower than 5%. This means that the app needs to check if a certain variable `battery_level` is lower than the value 5, i.e., if the comparison `battery_level < 5` evaluates to `True`. If the variable `battery_level` currently holds the value `17`, then `battery_level < 5` evaluates to `False`."
   ]
  },
  {
   "cell_type": "markdown",
   "metadata": {},
   "source": [
    "### Booleans"
   ]
  },
  {
   "cell_type": "markdown",
   "metadata": {},
   "source": [
    "`True` and `False` are so-called \"boolean values\" that are predefined in Python. `True` and `False` are the <i>only</i> boolean values, and anything that is not `False`, is `True`.\n",
    "\n",
    "You might wonder what the data type of `True` and `False` is. The answer is that they are of the type `bool`. However, in Python <i>every</i> value can be interpreted as a boolean value, regardless of its data type. I.e., when you test a condition, and your test is of a value that is not `True` or `False`, it will still be interpreted as either `True` or `False`.\n",
    "\n",
    "Any expression that is evaluated as `True` or `False` is called a \"boolean expression\"."
   ]
  },
  {
   "cell_type": "markdown",
   "metadata": {},
   "source": [
    "### Comparisons"
   ]
  },
  {
   "cell_type": "markdown",
   "metadata": {},
   "source": [
    "The most common boolean expressions are comparisons. A comparison consists of two values, and a comparison operator in between. Comparison operators are:\n",
    "\n",
    "    <    less than\n",
    "    <=   less than or equal to\n",
    "    ==   equal to\n",
    "    >=   equal to or greater than\n",
    "    >    greater than\n",
    "    !=   not equal\n",
    "\n",
    "A common mistake is to use a single `=` as a comparison operator, but the single `=` is the assignment operator. In general, Python will produce a syntax or runtime error if you try to use a single `=` to make a a comparison.\n",
    "\n",
    "You can use the comparison operators to compare both numbers and strings. Comparison for strings is an alphabetical comparison, whereby all capitals come before all lower case letters (and digits come before both of them). \n",
    "\n",
    "Here are some examples of the results of comparisons:"
   ]
  },
  {
   "cell_type": "code",
   "execution_count": null,
   "metadata": {},
   "outputs": [],
   "source": [
    "print( \"Example 1.\", 2 < 5 )\n",
    "print( \"Example 2.\", 2 <= 5 )\n",
    "print( \"Example 3.\", 3 > 3 )\n",
    "print( \"Example 4.\", 3 >= 3 )\n",
    "print( \"Example 5.\", 3 == 3.0 )\n",
    "print( \"Example 6.\", 3 == \"3\" )\n",
    "print( \"Example 7.\", \"syntax\" == \"syntax\" )\n",
    "print( \"Example 8.\", \"syntax\" == \"semantics\" )\n"
   ]
  },
  {
   "cell_type": "markdown",
   "metadata": {},
   "source": [
    "Make sure that you understand these evaluations!\n",
    "\n",
    "You can assign the outcome of a boolean expression to a variable if you like:"
   ]
  },
  {
   "cell_type": "code",
   "execution_count": null,
   "metadata": {},
   "outputs": [],
   "source": [
    "greater = 5 > 2\n",
    "print( greater )\n",
    "greater = 5 < 2\n",
    "print( greater )\n",
    "print( type( greater ) )"
   ]
  },
  {
   "cell_type": "markdown",
   "metadata": {},
   "source": [
    "**Exercise**: Write some code that allows you to test if `1/2` is greater than, equal to, or less than `0.5`. Do the same for `1/3` and `0.33`. Then do the same for `(1/3)*3` and `1`."
   ]
  },
  {
   "cell_type": "code",
   "execution_count": null,
   "metadata": {},
   "outputs": [],
   "source": [
    "# Test some comparisons.\n"
   ]
  },
  {
   "cell_type": "markdown",
   "metadata": {},
   "source": [
    "Comparisons of data types that cannot be compared, in general lead to runtime errors."
   ]
  },
  {
   "cell_type": "code",
   "execution_count": null,
   "metadata": {
    "scrolled": true
   },
   "outputs": [],
   "source": [
    "# This code gives a runtime error.\n",
    "print( 3 < \"3\" )"
   ]
  },
  {
   "cell_type": "markdown",
   "metadata": {},
   "source": [
    "Functions can return a boolean value. The following code defines a function `isPositive` which returns `True` if its parameter is a positive number, and `False` otherwise:"
   ]
  },
  {
   "cell_type": "code",
   "execution_count": null,
   "metadata": {},
   "outputs": [],
   "source": [
    "def isPositive(number):\n",
    "    return number >= 0\n",
    "\n",
    "print(isPositive(4))\n",
    "print(isPositive(-12.4))"
   ]
  },
  {
   "cell_type": "markdown",
   "metadata": {},
   "source": [
    "**Exercise**: Write a function `isNegative` which returns `True` if its parameter is a negative number, and `False` otherwise."
   ]
  },
  {
   "cell_type": "markdown",
   "metadata": {},
   "source": [
    "---"
   ]
  },
  {
   "cell_type": "markdown",
   "metadata": {},
   "source": [
    "## Conditional statements"
   ]
  },
  {
   "cell_type": "markdown",
   "metadata": {},
   "source": [
    "Conditional statements are, as the introduction to this chapter said, statements consisting of a test and one or more actions, whereby the actions only get executed if the test evaluates to `True`. Conditional statements are also called \"if-statements\", as they are written using the special keyword `if`.\n",
    "\n",
    "Here is an example:"
   ]
  },
  {
   "cell_type": "code",
   "execution_count": null,
   "metadata": {},
   "outputs": [],
   "source": [
    "x = 5\n",
    "if x == 5:\n",
    "    print( \"x equals 5\" )"
   ]
  },
  {
   "cell_type": "markdown",
   "metadata": {},
   "source": [
    "The syntax of the `if` statement is as follows:\n",
    "\n",
    "    if <boolean expression>:\n",
    "        <statements>\n",
    "\n",
    "Note the colon (`:`) after the boolean expression, and the fact that `<statements>` is indented."
   ]
  },
  {
   "cell_type": "markdown",
   "metadata": {},
   "source": [
    "### Code blocks"
   ]
  },
  {
   "cell_type": "markdown",
   "metadata": {},
   "source": [
    "In the syntactic description of the `if` statement shown above, you see that the `<statements>` are \"indented\", i.e., they are placed one tabulation to the right. This is intentional and <u>necessary</u>. Python considers statements that are following each other and that are at the same level of indentation part of a code block. The code block underneath the first line of the `if` statement is considered to be the list of actions that are executed when the boolean expression evaluates to `True`.\n",
    "\n",
    "For example:"
   ]
  },
  {
   "cell_type": "code",
   "execution_count": null,
   "metadata": {},
   "outputs": [],
   "source": [
    "x = 7\n",
    "if x < 10:\n",
    "    print( \"This line is only executed if x < 10.\" )\n",
    "    print( \"And the same holds for this line.\" )\n",
    "print( \"This line, however, is always executed.\" )"
   ]
  },
  {
   "cell_type": "markdown",
   "metadata": {},
   "source": [
    "**Exercise**: Change the value of `x` to see how it affects the outcome of the code.\n",
    "\n",
    "Thus, all the statements under the `if` that are indented, belong to the code block that is executed when the boolean expression of the `if` statement evaluates to `True`. This code block is skipped if the boolean expression evaluates to `False`. Statements which follow the `if` construction which are not indented (as deep as the code block under the `if`), are executed, regardless of whether the boolean expression evaluates to `True` or `False`.\n",
    "\n",
    "Now let's write a function that returns `Positive` if its parameter is a positive number, and `Negative` otherwise:"
   ]
  },
  {
   "cell_type": "code",
   "execution_count": null,
   "metadata": {},
   "outputs": [],
   "source": [
    "def polarity(number):\n",
    "    if (number >= 0):\n",
    "        return \"Positive\"\n",
    "    return \"Negative\"\n",
    "\n",
    "print(polarity(-8))\n",
    "print(polarity(45))"
   ]
  },
  {
   "cell_type": "markdown",
   "metadata": {},
   "source": [
    "Naturally, you are not restricted to having just a single `if` statement in your code. You can have as many as you like:"
   ]
  },
  {
   "cell_type": "code",
   "execution_count": null,
   "metadata": {},
   "outputs": [],
   "source": [
    "def print_status(x):\n",
    "    if x == 5: \n",
    "        print( \"x equals 5\" )\n",
    "    if x > 4: \n",
    "        print( \"x is greater than 4\" )\n",
    "    if  x >= 5:\n",
    "        print( \"x is greater than or equal to 5\" )\n",
    "    if x < 6: \n",
    "        print( \"x is less than 6\" ) \n",
    "    if x <= 5:\n",
    "        print( \"x is less than or equal to 5\" )\n",
    "    if x != 6 :\n",
    "        print( \"x does not equal 6\" )"
   ]
  },
  {
   "cell_type": "markdown",
   "metadata": {},
   "source": [
    "**Exercise**: Test this function by giving it different parameters and see how it affects the outcome."
   ]
  },
  {
   "cell_type": "markdown",
   "metadata": {},
   "source": [
    "### Indentation"
   ]
  },
  {
   "cell_type": "markdown",
   "metadata": {},
   "source": [
    "In Python, __correct indenting is of the utmost importance__! Without correct indentation, Python will not be able to recognize which statements belong together as one code block, and therefore cannot execute your code correctly.\n",
    "\n",
    "**Side note**: In many programming languages (actually, in almost all programming languages), code blocks are recognized by having them start and end with a specific symbol or keyword. For instance, in languages such as Java and C++, code blocks are enclosed by curly brackets, while in languages such as Pascal and Modula, code blocks are started with the keyword `begin` and ended with the keyword `end`. That means that in almost all languages, indenting to recognize code blocks is not necessary. However, you will find that code written by capable programmers is always nicely indented, regardless of the language. This makes it easy to see which code belongs together, for instance, which commands belong to an `if` statement. Python makes indenting a requirement. While for experienced programmers who are new to Python this seems strange at first, they quickly find that they do not care -- they were indenting nicely anyway, and Python's strategy makes that beginning programmers are also required to write nice-looking code.\n",
    "\n",
    "Note that you can indent using the *Tab* key, or indent using spaces. Most editors (including the editor in these notebooks) will auto-indent for you, i.e., if, for instance, you write the first line of an `if` statement, once you press *Enter* to go to the next line, it will automatically \"jump in\" one level of indentation (if it does not, it is very likely that you forgot the colon at the end of the conditional expression). Also, when you have indented one line to a certain level of indentation, the next line will use the same level. You can get rid of indentations using the *Backspace* key.\n",
    "\n",
    "For Python programs, a normal level of indentation is four spaces, i.e., one press of the *Tab* key should \"jump in\" four spaces. As long as you are in one editor, you can in such a case either use the *Tab* key, or press the spacebar four times, to go up one indentation level. So far so good. You may get into problems, however, if you port your code to another editor, which might have a different setting for the *Tab* key. If you edit your code in a such a different editor, even though it might look okay, Python may see that there are indentation conflicts (a mix of tabulations and space-indentations) and may report a syntax error when you try to run your code. Most editors therefore offer the option to automatically replace tabulations with spaces, so that such problems do not arise. If you use a text editor to write Python code, check if it contains such an option, and if so, ensure that tabulations are set to 4 and are automatically replaced by spaces.\n",
    "\n",
    "**Exercise**: The following code contains multiple indentation errors. Fix them all."
   ]
  },
  {
   "cell_type": "code",
   "execution_count": null,
   "metadata": {},
   "outputs": [],
   "source": [
    "x = 3\n",
    "y = 4\n",
    "if x == 3 and y == 4:\n",
    "    print( \"x is 3\" )\n",
    "   print( \"y is 4\" )\n",
    "if x > 2 and y < 5:\n",
    "print( \"x > 2\" )\n",
    "print( \"y < 5\" )\n",
    "if x < 4 and y > 3:\n",
    "    print( \"x < 4\" )\n",
    "        print( \"y > 3\" )"
   ]
  },
  {
   "cell_type": "markdown",
   "metadata": {},
   "source": [
    "### Two-way decisions"
   ]
  },
  {
   "cell_type": "markdown",
   "metadata": {},
   "source": [
    "Often a decision branches, e.g., if a certain condition arises, you want to take a particular action, but if it does not arise, you want to take another action. This is supported by Python in the form of an expansion to the `if` statement that adds an `else` branch:"
   ]
  },
  {
   "cell_type": "code",
   "execution_count": null,
   "metadata": {},
   "outputs": [],
   "source": [
    "def bigger_than_two(x):\n",
    "    if x > 2:\n",
    "        print( \"bigger than 2\" )\n",
    "    else:\n",
    "        print( \"smaller than or equal to 2\" ) \n",
    "        \n",
    "bigger_than_two(4444)"
   ]
  },
  {
   "cell_type": "markdown",
   "metadata": {},
   "source": [
    "The syntax is as follows:\n",
    "\n",
    "    if <boolean expression>:\n",
    "        <statements>\n",
    "    else:\n",
    "        <statements>\n",
    "\n",
    "Note the colon (`:`) after both the boolean expression and the `else`.\n",
    "\n",
    "It is important that the word `else` is aligned with the word `if` that it belongs to. If you do not align them correctly, this results in an indentation error.\n",
    "\n",
    "A consequence of adding an `else` branch to an `if` statement is that always exactly one of the two code blocks will be executed. If the boolean expression of the `if` statement evaluates to `True`, the code block directly under the `if` will be executed, and the code block directly under the `else` will be skipped. If it evaluates to `False`, the code block directly under the `if` will be skipped, while the code block directly under the `else` will be executed.\n",
    "\n",
    "**Exercise**: Write a function `isOdd` which returns `True` if its integer parameter is odd or `False` if it's even. You can use the modulo operator. Test your function with different parameter values."
   ]
  },
  {
   "cell_type": "code",
   "execution_count": null,
   "metadata": {},
   "outputs": [],
   "source": [
    "def isOdd(number):\n",
    "    return #True if number is odd, False if it's even."
   ]
  },
  {
   "cell_type": "markdown",
   "metadata": {},
   "source": [
    "Note: As far as indentation is concerned, it is not absolutely necessary to have the code block under the `else` branch use the same number of spaces in indentation as the code block under the `if` branch, as long as the indentation is consistent within the code block. However, accomplished programmers use consistent indentation throughout their programs, which makes it easier to see what the whole `if-else` statement encompasses. For example, in the code below the indentation in the `else` branch uses less spaces than the indentation in the `if` branch. While syntactically correct, it is not the best coding style (and the notebooks don't like that either, considering that it colors the first `print()` in the `else` branch red), and you better use consistent indenting throughout the code."
   ]
  },
  {
   "cell_type": "code",
   "execution_count": null,
   "metadata": {},
   "outputs": [],
   "source": [
    "# Example of syntactically correct but ugly indenting.\n",
    "x = 1\n",
    "y = 3\n",
    "if x > 2 and y < 1:\n",
    "    print( \"x is bigger than 2\" )\n",
    "    print( \"y is smaller than 1\")\n",
    "else:\n",
    "  print( \"x is smaller than or equal to 2\" )\n",
    "  print( \"or y is bigger than or equal to 1\" )"
   ]
  },
  {
   "cell_type": "markdown",
   "metadata": {},
   "source": [
    "### Multi-branch decisions"
   ]
  },
  {
   "cell_type": "markdown",
   "metadata": {},
   "source": [
    "Occasionally, you encounter multi-branch decisions, where one of multiple blocks of commands has to be executed, but never more than one block. Such multi-branch decisions can be implemented using a further expansion of the `if` statement, namely in the form of one or more `elif` statements (`elif` stands for \"else if\"):"
   ]
  },
  {
   "cell_type": "code",
   "execution_count": null,
   "metadata": {},
   "outputs": [],
   "source": [
    "def age_status(age):\n",
    "    if age < 12:\n",
    "        print( \"You're still a child!\" )\n",
    "    elif age < 18:\n",
    "        print( \"You are a teenager!\" )\n",
    "    elif age < 30:\n",
    "        print( \"You're pretty young!\" )\n",
    "    elif age < 50:\n",
    "        print( \"Wisening up, are we?\" )\n",
    "    else:\n",
    "        print( \"Aren't the years weighing heavy on your shoulders?\" )\n",
    "        \n",
    "age_status(33)"
   ]
  },
  {
   "cell_type": "markdown",
   "metadata": {},
   "source": [
    "Change the parameter value and test the function `age_status`.\n",
    "\n",
    "The syntax is as follows:\n",
    "\n",
    "    if <boolean expression>:\n",
    "        <statements>\n",
    "    elif <boolean expression>:\n",
    "        <statements>\n",
    "    else:\n",
    "        <statements>\n",
    "\n",
    "The syntax above shows only one `elif`, but you can have multiple. The different tests in an `if`-`elif`-`else` construct are executed in order. The first boolean expression that evaluates to `True` will cause the code block that belongs to that expression to be executed. None of the other code blocks of the construct will be executed.\n",
    "\n",
    "\n",
    "**Exercise:** Write a function that takes a parameter `weight`. If `weight` is greater than 20 (kilo's), print: \"There is a $25 surcharge for luggage that is too heavy.\" If `weight` is smaller than 20, print: \"Thank you for staying within the limit.\" If `weight` is exactly 20, print: \"Pfew! The weight is just right!\". Test the function for different values of `weight`to make sure your code works."
   ]
  },
  {
   "cell_type": "code",
   "execution_count": null,
   "metadata": {},
   "outputs": [],
   "source": [
    "def luggage_weighting(weight):\n",
    "    # print the correct message.\n"
   ]
  },
  {
   "cell_type": "markdown",
   "metadata": {},
   "source": [
    "---"
   ]
  },
  {
   "cell_type": "markdown",
   "metadata": {},
   "source": [
    "## What you learned"
   ]
  },
  {
   "cell_type": "markdown",
   "metadata": {},
   "source": [
    "In this chapter, you learned about:\n",
    "\n",
    "- What boolean expressions are\n",
    "- Boolean values `True` and `False`\n",
    "- Comparisons with `<`, `<=`, `==`, `>`, `>=`, and `!=`\n",
    "- The `in` operator\n",
    "- Conditional statements using `if`, `elif`, and `else`\n",
    "- Code blocks\n",
    "- Indentation\n"
   ]
  },
  {
   "cell_type": "markdown",
   "metadata": {},
   "source": [
    "---------"
   ]
  },
  {
   "cell_type": "markdown",
   "metadata": {},
   "source": [
    "## Exercises"
   ]
  },
  {
   "cell_type": "markdown",
   "metadata": {},
   "source": [
    "### Exercise 7.1"
   ]
  },
  {
   "cell_type": "markdown",
   "metadata": {},
   "source": [
    "Grades are values between zero and 10 (both zero and 10 included), and are always rounded to the nearest half point. To translate grades to the American style, 8.5 to 10 become an \"A\", 7.5 and 8 become a \"B\", 6.5 and 7 become a \"C\", 5.5 and 6 become a \"D\", and other grades become an \"F\". Write a function that implements this translation and returns the American translation of the value in the parameter `grade`. If `grade` is lower than zero or higher than 10, the function prints an error message and returns an empty string. You do not need to handle grades that do not end in `.0` or `.5`, though you may do that if you like -- in that case, print an appropriate error message. "
   ]
  },
  {
   "cell_type": "code",
   "execution_count": null,
   "metadata": {},
   "outputs": [],
   "source": [
    "def convert_grade(grade):\n",
    "    return #American version of grade\n"
   ]
  },
  {
   "cell_type": "markdown",
   "metadata": {},
   "source": [
    "### Exercise 7.2"
   ]
  },
  {
   "cell_type": "markdown",
   "metadata": {},
   "source": [
    "Can you spot the reasoning error in the following function?"
   ]
  },
  {
   "cell_type": "code",
   "execution_count": null,
   "metadata": {},
   "outputs": [],
   "source": [
    "def give_grade(score):\n",
    "    if score >= 60.0:\n",
    "        grade = 'D'\n",
    "    elif score >= 70.0:\n",
    "        grade = 'C'\n",
    "    elif score >= 80.0:\n",
    "        grade = 'B'\n",
    "    elif score >= 90.0:\n",
    "        grade = 'A'\n",
    "    else:\n",
    "        grade = 'F'\n",
    "    return grade"
   ]
  },
  {
   "cell_type": "markdown",
   "metadata": {},
   "source": [
    "### Exercise 7.3"
   ]
  },
  {
   "cell_type": "markdown",
   "metadata": {},
   "source": [
    "Define a function that receives a string parameter, and returns an integer indicating how many *different* vowels there are in the string. The capital version of a lower case vowel is considered to be the same vowel. `y` is not considered a vowel. For example, for the string \"Michael Palin\", the function should return 3."
   ]
  },
  {
   "cell_type": "code",
   "execution_count": null,
   "metadata": {},
   "outputs": [],
   "source": [
    "def vowel_count(text):\n",
    "    return #number of different vowels in text"
   ]
  },
  {
   "cell_type": "markdown",
   "metadata": {},
   "source": [
    "---"
   ]
  },
  {
   "cell_type": "markdown",
   "metadata": {},
   "source": [
    "End of Chapter 7. Version 1.1."
   ]
  }
 ],
 "metadata": {
  "kernelspec": {
   "display_name": "Python 3",
   "language": "python",
   "name": "python3"
  },
  "language_info": {
   "codemirror_mode": {
    "name": "ipython",
    "version": 3
   },
   "file_extension": ".py",
   "mimetype": "text/x-python",
   "name": "python",
   "nbconvert_exporter": "python",
   "pygments_lexer": "ipython3",
   "version": "3.6.5"
  }
 },
 "nbformat": 4,
 "nbformat_minor": 1
}
