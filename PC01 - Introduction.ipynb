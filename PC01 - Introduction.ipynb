{
 "cells": [
  {
   "cell_type": "markdown",
   "metadata": {},
   "source": [
    "# Chapter 1 - Introduction"
   ]
  },
  {
   "cell_type": "markdown",
   "metadata": {},
   "source": [
    "-------------------------------"
   ]
  },
  {
   "cell_type": "markdown",
   "metadata": {},
   "source": [
    "### Welcome dear collegues!"
   ]
  },
  {
   "cell_type": "markdown",
   "metadata": {},
   "source": [
    "This course is welcoming all collegues from the ANWB and partners who are eager to get an initial insight into the Python programming language. We start of by some introductionary words by Pieter Spronck, one of the founding fathers of the Python Language and whose book we follow during this course. \n",
    "\n",
    "*Computers are wonderful machines. While most machines (cars, television sets, microwaves) have a specific purpose which they excel at accomplishing, computers are purposeless machines that can be taught to accomplish **anything**. The power to make a computer do your bidding is called \"programming\". Nowadays, in many professional endeavours, people have to deal with large volumes of data. Those who are able to leverage the power of computers to make use of such data, i.e., those who can program, are far better able to do their jobs than those who are not. In fact, it can be argued that in the very near future, those who do not possess programming skills will become unemployable. Therefore, I feel that it is necessary for all students and professionals to acquire basic skills in this area during their education.*\n",
    "\n",
    "This course will follow the guidelines of Pieter Spronck. The book by Pieter Spronck is good introduction to the Python programming language, but by no means exhaustive. I have a copy of the book available if you wish to use it for some time, but it is also available on the web as pdf for free. Additionally, I have linked another book, which we will refer to when using certain Python packages. \n",
    "\n",
    "Using books to learn a computer language, I hear you wonder. This is just a personal preferance. Hence, the books are made available online as well, but if you wish to support the authors, please do so by buying a physical copy of the book! All text in this course is in English, for the simple reason that *everything* in the Python language is in English. Additionally, by studying the terms in English, using google to solve your issue becomes easier! \n",
    "\n",
    "This course begins with the assumption that you have no programming skills at all. Please be aware that this 1 month course, consisting of just a few hours, will not be enough to make you a programmer. It simply takes hours of experience to efficiently program. Therefore I suggest that you use the books provided to acquire more knowledge of the language and above all: practise, practise, practise! \n",
    "\n"
   ]
  },
  {
   "cell_type": "markdown",
   "metadata": {},
   "source": [
    "---"
   ]
  },
  {
   "cell_type": "markdown",
   "metadata": {},
   "source": [
    "## Course Outline"
   ]
  },
  {
   "cell_type": "markdown",
   "metadata": {},
   "source": [
    "Over the coming weeks, we will focus on getting an introduction to Python. The first two weeks we'll get you of the ground with Python, where we study some generic functions of the language. The later two weeks are more aimed at working with data, and hopefully do some initial data analysis. \n"
   ]
  },
  {
   "cell_type": "markdown",
   "metadata": {},
   "source": [
    "### Method of teaching"
   ]
  },
  {
   "cell_type": "markdown",
   "metadata": {},
   "source": [
    "During the coming weeks, we'll do weekly sessions where I firstly show you some aspacts of the language, before you can practise for yourself. A second session is held each week, where you are welcomed to come and work on solving several problems using Python. Additionally, it can be extremely usefull to spend some time outside these sessions to truly understand the usability and applicability of python. \n",
    "\n",
    "\n",
    "During this course, we will work through so called notebooks, like the one you have in front of you. In these notebooks, you'll find explanations on how things work, with small exercises sprinkled throughout the text. These exercises are there to enlighten a point or for you to do a quick check if you understood the material up to that moment. You can enter your code directly in the notebook, press the combination of **enter-shift**. Answers to these exercises are seldom provided, because if you understood the material, they should be really easy to do, while if you did not understand the material, you should either re-read the notebook until you do, or ask an instructor for assistance. At the end of most chapters, a separate \"Exercises\" section is given, with one or more numbered exercises. You are supposed to do all of these exercises, and you should be able to do them independently as much as possibile.  "
   ]
  },
  {
   "cell_type": "markdown",
   "metadata": {},
   "source": [
    "---"
   ]
  },
  {
   "cell_type": "markdown",
   "metadata": {},
   "source": [
    "## Why Python?*"
   ]
  },
  {
   "cell_type": "markdown",
   "metadata": {},
   "source": [
    "### An explanation by Pieter Spronck *\n"
   ]
  },
  {
   "cell_type": "markdown",
   "metadata": {},
   "source": [
    "Python has become a language of choice for teaching people how to program. It is a powerful language, that is easy to use, and that offers all the possibilities that any other computer language offers. It is easily portable between different operating systems. It is freely available. For beginning programmers, it has the advantage that it enforces writing readable code. Python is also a language that is used for many practical applications, either as a basis for complete programs, or as an extension to programs written in a different language.\n",
    "\n",
    "The main advantage of using Python is that it allows you to focus on \"thinking like a programmer\", rather than learning all the arcane intricacies of a language. Here is an example of the difference between using Python, and using some other popular programming languages: The first program that anybody writes in any language, is <i>Hello World</i>. This is a program that displays the text \"Hello, world!\" on the screen. In the highly popular computer language C++, *Hello World* is coded as follows:\n",
    "\n",
    "    #include <iostream>\n",
    "    int main() {\n",
    "        std::cout << \"Hello, world!\";\n",
    "    }"
   ]
  },
  {
   "cell_type": "markdown",
   "metadata": {},
   "source": [
    "In C#, Microsoft's popular variant of C++, it is:\n",
    "\n",
    "    using System;\n",
    "    namespace HelloWorld {\n",
    "        class Hello {\n",
    "            static void Main() {\n",
    "                Console.WriteLine( \"Hello, world!\" );\n",
    "                Console.ReadKey();\n",
    "            }\n",
    "        }\n",
    "    }"
   ]
  },
  {
   "cell_type": "markdown",
   "metadata": {},
   "source": [
    "In Objective-C, Apple's C++ variation, the code becomes even worse:\n",
    "\n",
    "    #import <Foundation/Foundation.h>\n",
    "    int main ( int argc, const char * argv[] ) {\n",
    "        NSAutoreleasePool *pool = [[NSAutoreleasePool alloc] init];\n",
    "        NSLog (@\"Hello, world!\");\n",
    "        [pool drain];\n",
    "        return 0;\n",
    "    }"
   ]
  },
  {
   "cell_type": "markdown",
   "metadata": {},
   "source": [
    "In Java, which is taught as the first language to many computer science students, it is:\n",
    "\n",
    "    class Hello {\n",
    "        public static void main( String[] args ) {\n",
    "            System.out.println( \"Hello, world!\" );\n",
    "        }\n",
    "    }"
   ]
  },
  {
   "cell_type": "markdown",
   "metadata": {},
   "source": [
    "In the language of choice for administrative programmers, COBOL, which should be really easy to read and use, it is:\n",
    "\n",
    "    IDENTIFICATION DIVISION.\n",
    "    PROGRAM-ID. HELLO-WORLD.\n",
    "    PROCEDURE DIVISION.\n",
    "            DISPLAY 'Hello, world!'.\n",
    "            STOP RUN."
   ]
  },
  {
   "cell_type": "markdown",
   "metadata": {},
   "source": [
    "Now compare this to writing *Hello World* in Python:\n",
    "\n",
    "    print( \"Hello, world!\" )"
   ]
  },
  {
   "cell_type": "markdown",
   "metadata": {},
   "source": [
    "I think we can agree that the Python version of this program is much more readable and understandable -- even without knowing the language -- than any of the other languages."
   ]
  },
  {
   "cell_type": "markdown",
   "metadata": {},
   "source": [
    "---"
   ]
  },
  {
   "cell_type": "markdown",
   "metadata": {},
   "source": [
    "---"
   ]
  }
 ],
 "metadata": {
  "kernelspec": {
   "display_name": "Python 3",
   "language": "python",
   "name": "python3"
  },
  "language_info": {
   "codemirror_mode": {
    "name": "ipython",
    "version": 3
   },
   "file_extension": ".py",
   "mimetype": "text/x-python",
   "name": "python",
   "nbconvert_exporter": "python",
   "pygments_lexer": "ipython3",
   "version": "3.6.5"
  }
 },
 "nbformat": 4,
 "nbformat_minor": 1
}
