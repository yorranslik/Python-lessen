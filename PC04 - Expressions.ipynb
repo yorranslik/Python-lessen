{
 "cells": [
  {
   "cell_type": "markdown",
   "metadata": {},
   "source": [
    "# Chapter 4 - Expressions"
   ]
  },
  {
   "cell_type": "markdown",
   "metadata": {},
   "source": [
    "-------------------------------"
   ]
  },
  {
   "cell_type": "markdown",
   "metadata": {},
   "source": [
    "Welcome to the first real programming chapter. In this chapter we discuss \"expressions\", which are straightforward calculations that you can also do with any simple calculator. It is a small start, but you are going to need such expressions for every chapter after this one."
   ]
  },
  {
   "cell_type": "markdown",
   "metadata": {},
   "source": [
    "---"
   ]
  },
  {
   "cell_type": "markdown",
   "metadata": {},
   "source": [
    "## Displaying results"
   ]
  },
  {
   "cell_type": "markdown",
   "metadata": {},
   "source": [
    "When you write an expression in a code block in a notebook, and you run it (by selecting the code block and pressing *Shift/Ctrl+Enter*), the result of the expression is shown below it. For instance, if you run the code block below, you see the result `12`."
   ]
  },
  {
   "cell_type": "code",
   "execution_count": null,
   "metadata": {},
   "outputs": [],
   "source": [
    "5 + 7"
   ]
  },
  {
   "cell_type": "markdown",
   "metadata": {},
   "source": [
    "In this manner, the code block works like the Python shell (discussed in the previous chapter). However, if you run the code block below, which contains two expressions, you only see the result of the second one."
   ]
  },
  {
   "cell_type": "code",
   "execution_count": null,
   "metadata": {},
   "outputs": [],
   "source": [
    "5 + 7\n",
    "9 - 2"
   ]
  },
  {
   "cell_type": "markdown",
   "metadata": {},
   "source": [
    "You must explicitly tell Python to display the result of both expressions, if that is what you want to see. In any case, if you run a Python program outside the shell, you have to explicitly display everything that you want to see, even if it is on the last line of the program.\n",
    "\n",
    "So, even though this chapter is about expressions, the first thing we need to explain is not an expression, but a function, that allows you to display results (we talk about functions in detail in Chapter 6). The function that does that is `print`. \n",
    "\n",
    "The `print` function is used as follows: you write the word `print`, followed by an opening parenthesis, followed by whatever you want to display, followed by a closing parenthesis. For example:"
   ]
  },
  {
   "cell_type": "code",
   "execution_count": null,
   "metadata": {},
   "outputs": [],
   "source": [
    "print( \"Hello, world!\" )"
   ]
  },
  {
   "cell_type": "markdown",
   "metadata": {},
   "source": [
    "If you run this code (by pressing <i>Ctrl+Enter</i>), you will see that it displays the text \"Hello, world!\" underneath the code block.\n",
    "\n",
    "**Side note**: When referring to a function by name in a text, authors of texts about programming often put an opening and closing parenthesis after the name of the function, to indicate that it is a function name. From now on, we will follow this convention. Moreover, instead of referring to a \"function\", authors sometimes call it a \"statement\" or a \"command\". However, these terms are usually used to refer to anything that Python can execute, not just functions. I.e., an expression can also be called a \"command\".\n",
    "\n",
    "You can display multiple things with one `print()` function by putting everything that you want to display between the parentheses with commas in between. The `print()` function will then display all of the items, with one space in between each pair of them. For example:"
   ]
  },
  {
   "cell_type": "code",
   "execution_count": 1,
   "metadata": {},
   "outputs": [
    {
     "name": "stdout",
     "output_type": "stream",
     "text": [
      "I own two apples and one banana\n"
     ]
    }
   ],
   "source": [
    "print( \"I\", \"own\", \"two\", \"apples\", \"and\", \"one\", \"banana\" )"
   ]
  },
  {
   "cell_type": "markdown",
   "metadata": {},
   "source": [
    "Note that the spaces in this statement are all superfluous. The statement:"
   ]
  },
  {
   "cell_type": "code",
   "execution_count": 2,
   "metadata": {},
   "outputs": [
    {
     "name": "stdout",
     "output_type": "stream",
     "text": [
      "I own two apples and one banana\n"
     ]
    }
   ],
   "source": [
    "print(\"I\",\"own\",\"two\",\"apples\",\"and\",\"one\",\"banana\")"
   ]
  },
  {
   "cell_type": "markdown",
   "metadata": {},
   "source": [
    "is equivalent to the previous one. You can add such spaces for readability. You can even put spaces between the word `print` and the opening parenthesis, but by convention, for functions (and `print()` is a function), the opening parenthesis is placed right next to the function name.\n",
    "\n",
    "Note that you can use `print()` not only to display texts, but also to display numbers. You can even mix them up, as the following code shows."
   ]
  },
  {
   "cell_type": "code",
   "execution_count": 3,
   "metadata": {},
   "outputs": [
    {
     "name": "stdout",
     "output_type": "stream",
     "text": [
      "I own 2 apples and 1 banana\n"
     ]
    }
   ],
   "source": [
    "print( \"I\", \"own\", 2, \"apples\", \"and\", 1, \"banana\" )"
   ]
  },
  {
   "cell_type": "markdown",
   "metadata": {},
   "source": [
    "\n",
    "**Exercise**: Edit some of the code blocks above to display different texts. But take note that if you want to display text strings, you have to enclose them in double quotes -- or single quotes, those work too."
   ]
  },
  {
   "cell_type": "markdown",
   "metadata": {},
   "source": [
    "---"
   ]
  },
  {
   "cell_type": "markdown",
   "metadata": {},
   "source": [
    "## Data types"
   ]
  },
  {
   "cell_type": "markdown",
   "metadata": {},
   "source": [
    "Before we can get to expressions, there is one more topic that requires some discussion, and that is data types. Specifically, there are three different data types that you need to be aware of at this time: strings, integers, and floats."
   ]
  },
  {
   "cell_type": "markdown",
   "metadata": {},
   "source": [
    "### Strings"
   ]
  },
  {
   "cell_type": "markdown",
   "metadata": {},
   "source": [
    "A string is a text, consisting of zero or more characters. In Python, a string is enclosed by either double quotes, or single quotes. In principle, it does not matter which of the two you use, i.e., `\"orange\"` is equivalent to `'orange'`. However, if you have a text which contains a single quote, if you want to avoid problems you have to enclose it in double quotes, i.e., `\"I can't stand it\"` is a legal string, while `'I can't stand it'` is not. Vice versa for double quotes in a string, of course.\n"
   ]
  },
  {
   "cell_type": "markdown",
   "metadata": {},
   "source": [
    "### Integers"
   ]
  },
  {
   "cell_type": "markdown",
   "metadata": {},
   "source": [
    "Integers are whole numbers, which can be positive or negative (or zero). There is a certain maximum size that integers can become, which depends on the kind of computer and operating system you are running. For most purposes, however, you will not run into those boundaries. Python is not like those calculators with a 10-digit display that cannot use numbers higher than 10 billion.\n",
    "\n",
    "There are different ways of writing integers that result in the same value. `1` is the same as `+1` (there are other ways than these to write the value `1`, but these follow in a later chapter). So the following two commands produce the same output:"
   ]
  },
  {
   "cell_type": "code",
   "execution_count": null,
   "metadata": {},
   "outputs": [],
   "source": [
    "print( 1 )\n",
    "print( +1 )"
   ]
  },
  {
   "cell_type": "markdown",
   "metadata": {},
   "source": [
    "This is different for strings, of course. The string `\"1\"` is not the same as the string `\"+1\"`.\n",
    "\n",
    "When you use integers in Python, you cannot write them with \"thousands separators\" (commas in English) to make them more readable. I.e., the number one billion should be written as `1000000000` rather than `1,000,000,000`.\n",
    "\n",
    "Check out the following code and think about what it will display when you run it. Then run it."
   ]
  },
  {
   "cell_type": "code",
   "execution_count": null,
   "metadata": {},
   "outputs": [],
   "source": [
    "print( 1,000,000,000 )"
   ]
  },
  {
   "cell_type": "markdown",
   "metadata": {},
   "source": [
    "**Exercise**: If your prediction of what this code would do was not correct, find out why it produces this result. Hint: the syntax highlighting applied by the notebooks might provide an idea."
   ]
  },
  {
   "cell_type": "markdown",
   "metadata": {},
   "source": [
    "### Floats"
   ]
  },
  {
   "cell_type": "markdown",
   "metadata": {},
   "source": [
    "Floats, or \"floating-point numbers\", are numbers with decimals. For instance, `3.14159265` is a float. Note that you have to use a period as the decimal separator. Many countries use a comma as the decimal separator, but Python uses the convention of English-speaking countries and uses the period.\n",
    "\n",
    "If there is an integer that for some reason you want to use as a float, you can do so by adding `.0` to it. I.e., `13` is an integer, while `13.0` is a float. Still, they represent the same value, and if you use Python to compare them (which we will get to in a short while), Python will tell you that they are the same value.\n",
    "\n",
    "Just like with integers, there are certain maximum boundaries for floats, and there is also a maximum precision. You are unlikely to ever reach those maximum boundaries, as Python will switch over to scientific notation when the numbers get very big, but if you use Python to do very precise calculations, you might run into problems with precision. That will not happen during this course, and it is unlikely to happen for most applications, but if you are a physicist whose calculations involve huge numbers of particles on the molecular or quantum level, it is something to be aware of.\n",
    "\n",
    "Note that due to the way that Python stores floats, certain numbers cannot be expressed exactly. For instance, if you run the following code:"
   ]
  },
  {
   "cell_type": "code",
   "execution_count": null,
   "metadata": {},
   "outputs": [],
   "source": [
    "print( (431 / 100) * 100 )"
   ]
  },
  {
   "cell_type": "markdown",
   "metadata": {},
   "source": [
    "you will see that the answer is not 431 as you might expect per a regular calculator. "
   ]
  },
  {
   "cell_type": "markdown",
   "metadata": {},
   "source": [
    "## List basics"
   ]
  },
  {
   "cell_type": "markdown",
   "metadata": {},
   "source": [
    "A list is a collection of elements.\n",
    "\n",
    "The elements of a list are *ordered*. Because they are ordered, you can access each of the elements of a list using an index, just like you can access the characters of a string. In Python, lists are recognizable from the fact that they enclose their elements in square brackets (`[]`). In the example below, we've added a list (fruitlist), to the variable 'fruitlist'. More on variables later! \n",
    "\n",
    "We can spend a full hour on lists alone. Fow now, just remember that lists come in handy when you're storing data."
   ]
  },
  {
   "cell_type": "code",
   "execution_count": 5,
   "metadata": {},
   "outputs": [
    {
     "name": "stdout",
     "output_type": "stream",
     "text": [
      "['apple', 'banana', 'cherry', 'durian', 'orange']\n"
     ]
    }
   ],
   "source": [
    "fruitlist = [\"apple\", \"banana\", \"cherry\", \"durian\", \"orange\"]\n",
    "print(fruitlist)"
   ]
  },
  {
   "cell_type": "markdown",
   "metadata": {},
   "source": [
    "---"
   ]
  },
  {
   "cell_type": "markdown",
   "metadata": {},
   "source": [
    "## Expressions"
   ]
  },
  {
   "cell_type": "markdown",
   "metadata": {},
   "source": [
    "Finally, we can get to the topic of this chapter, which is \"expressions\". An expression is a combination of one or more values (such as strings, integers, or floats) using operators, which result in a new value. In other words, you can think of expressions as calculations."
   ]
  },
  {
   "cell_type": "markdown",
   "metadata": {},
   "source": [
    "### Basic calculations"
   ]
  },
  {
   "cell_type": "markdown",
   "metadata": {},
   "source": [
    "Basic calculations combine two values with one operator in between them. Some straightforward operators are:\n",
    "\n",
    "    +   addition\n",
    "    -   subtraction\n",
    "    *   multiplication\n",
    "    /   division\n",
    "    //  integer division\n",
    "    **  power\n",
    "    %   modulo\n",
    "    \n",
    "Here are some examples:"
   ]
  },
  {
   "cell_type": "code",
   "execution_count": null,
   "metadata": {},
   "outputs": [],
   "source": [
    "print( 15+4 )\n",
    "print( 15-4 )\n",
    "print( 15*4 )\n",
    "print( 15/4 )\n",
    "print( 15//4 )\n",
    "print( 15**4 )\n",
    "\n",
    "# pro-tip. Use the #-sign to comment within your field! :) "
   ]
  },
  {
   "cell_type": "markdown",
   "metadata": {},
   "source": [
    "We assume you know what each of these operators entails, except perhaps the integer division and\n",
    "modulo operators. \n",
    "\n",
    "The integer division (also called \"floor division\") is simply a division that rounds down to a whole number. If you involve floats in the calculation, the result will still be a float, but rounded down. If you only involve integers in the calculation, the result will be an integer.\n"
   ]
  },
  {
   "cell_type": "markdown",
   "metadata": {},
   "source": [
    "### More complex calculations"
   ]
  },
  {
   "cell_type": "markdown",
   "metadata": {},
   "source": [
    "You are allowed to combine operators into bigger calculations, just as you can do on the more advanced calculators. To avoid confusion, you are also allowed to use parentheses in your calculations, and you can even nest these parentheses. Python will process the operators in the order prescribed by mathematicians, often referred to as PEMDAS (or for our Dutch fellas: Meneer Van Dalen wacht op antwoord)\n",
    "\n",
    "Check out the calculation below, and try to predict what it will result in before you run the code."
   ]
  },
  {
   "cell_type": "code",
   "execution_count": null,
   "metadata": {},
   "outputs": [],
   "source": [
    "print( 5*2-3+4/2 )"
   ]
  },
  {
   "cell_type": "markdown",
   "metadata": {},
   "source": [
    "There are a couple of things to note about this calculation. \n",
    "\n",
    "First, the end result is a float (even though it has no decimals, or, if you will, only zero as a decimal). The reason is that a division is part of the calculation, and for Python that means that it should turn this into a floating-point calculation.\n",
    "\n",
    "Second, just as explained above, spaces are ignored by Python, so the code above is the same as:"
   ]
  },
  {
   "cell_type": "code",
   "execution_count": null,
   "metadata": {},
   "outputs": [],
   "source": [
    "print( 5 * 2 - 3 + 4 / 2 )"
   ]
  },
  {
   "cell_type": "markdown",
   "metadata": {},
   "source": [
    "It is even the same as:"
   ]
  },
  {
   "cell_type": "code",
   "execution_count": null,
   "metadata": {},
   "outputs": [],
   "source": [
    "print( 5*2 - 3+4    / 2 )"
   ]
  },
  {
   "cell_type": "markdown",
   "metadata": {},
   "source": [
    "One might think that the code above should result in 6.5 or 1.5, because <i>clearly</i> you have to calculate the `5*2` and the `3+4` before you do the subtraction and division. That is not the case. It does not matter how close you place operands together, spaces are ignored. If you really want to calculate the `3+4` first, you have to put it between parentheses. You can then still use spaces to improve readability, but they mean nothing to Python."
   ]
  },
  {
   "cell_type": "code",
   "execution_count": null,
   "metadata": {},
   "outputs": [],
   "source": [
    "print( (5*2) - (3+4)/2 )\n",
    "print( ((5*2)-(3+4)) / 2 )"
   ]
  },
  {
   "cell_type": "markdown",
   "metadata": {},
   "source": [
    "**Exercise**: Now it is time to write your first program. In the code block below, write a program that displays the number of seconds in a week. You should, of course, not grab your calculator or smartphone to do the calculation and then just print the resulting number, but you should do the calculation in the Python code."
   ]
  },
  {
   "cell_type": "code",
   "execution_count": null,
   "metadata": {},
   "outputs": [],
   "source": [
    "# Display the number of seconds in a week\n"
   ]
  },
  {
   "cell_type": "markdown",
   "metadata": {},
   "source": [
    "Note that we wrote a \"comment line\" in this code block. For Python, if there appears a hash mark (`#`) in a line of code, that means that it should ignore everything on that line to the right of the hash mark. This way you can add textual explanations to your code. More on comments will follow later."
   ]
  },
  {
   "cell_type": "markdown",
   "metadata": {},
   "source": [
    "### String expressions"
   ]
  },
  {
   "cell_type": "markdown",
   "metadata": {},
   "source": [
    "Some of the operators given above can also be used for strings, though not all of them.\n",
    "\n",
    "In particular, you can use the addition operator (`+`) to concatenate two strings, and you can use the multiplication operator (`*`) with a number and a string to create a string that contains a repetition of the original string. Check it out:"
   ]
  },
  {
   "cell_type": "code",
   "execution_count": 6,
   "metadata": {},
   "outputs": [
    {
     "name": "stdout",
     "output_type": "stream",
     "text": [
      "helloworld\n",
      "hellohellohello\n",
      "goodbyegoodbyegoodbye\n"
     ]
    }
   ],
   "source": [
    "print( \"hello\"+\"world\" )\n",
    "print( 3*\"hello\" )\n",
    "print( \"goodbye\"*3 )"
   ]
  },
  {
   "cell_type": "markdown",
   "metadata": {},
   "source": [
    "You cannot add a number to a string, or multiply two strings. Such use of the operators is undefined, and will give error messages. None of the other operators listed for numbers will work on strings either."
   ]
  },
  {
   "cell_type": "markdown",
   "metadata": {},
   "source": [
    "### Type casting *"
   ]
  },
  {
   "cell_type": "markdown",
   "metadata": {},
   "source": [
    "Sometimes you need to change the data type of a value into a different data type. You can do that using type casting functions. \n",
    "\n",
    "We will discuss functions in a lot more detail in a Chapter 6, but for now you just need to know that a function has a name, and may have parameters (values) between parentheses after the name. It will do something with the parameters, and then may give back a result. For instance, the `print()` function displays the parameter values that are given to it between the parentheses, and gives nothing in return. \n",
    "\n",
    "The type casting functions take the parameter value between the parentheses and give back a value that is (almost) the same as the parameter value, but of a different data type. The three main type casting functions are the following:\n",
    "\n",
    "- `int()` will return the value between the parentheses as an integer (rounding down if necessary);<br>\n",
    "- `float()` will return the value between the parentheses as a float (adding `.0` if necessary); and<br>\n",
    "- `str()` will return the value between the parentheses as a string.\n",
    "\n",
    "See the difference between the following two lines of code:"
   ]
  },
  {
   "cell_type": "code",
   "execution_count": null,
   "metadata": {},
   "outputs": [],
   "source": [
    "print( 15/4 )\n",
    "print( int( 15/4 ) )"
   ]
  },
  {
   "cell_type": "markdown",
   "metadata": {},
   "source": [
    "Or the following two lines of code:"
   ]
  },
  {
   "cell_type": "code",
   "execution_count": null,
   "metadata": {},
   "outputs": [],
   "source": [
    "print( 15+4 )\n",
    "print( float( 15+4 ) )"
   ]
  },
  {
   "cell_type": "markdown",
   "metadata": {},
   "source": [
    "We mentioned that you cannot use the addition operator to concatenate a number to a string. However, if you need to do something like that, you can work around the issue by using string type casting:"
   ]
  },
  {
   "cell_type": "code",
   "execution_count": null,
   "metadata": {},
   "outputs": [],
   "source": [
    "print( \"I own \" + str( 15 ) + \" apples.\" )"
   ]
  },
  {
   "cell_type": "markdown",
   "metadata": {},
   "source": [
    "----------"
   ]
  },
  {
   "cell_type": "markdown",
   "metadata": {},
   "source": [
    "## What you learned"
   ]
  },
  {
   "cell_type": "markdown",
   "metadata": {},
   "source": [
    "In this chapter, you learned about:\n",
    "\n",
    "-  Using the `print()` function to display results \n",
    "-  Data types: string, integer, and float\n",
    "-  Calculations\n",
    "-  Basic string expressions\n",
    "-  Type casting between strings, integers, and floats, using `str()`, `int()`, and `float()`"
   ]
  },
  {
   "cell_type": "markdown",
   "metadata": {},
   "source": [
    "-------"
   ]
  },
  {
   "cell_type": "markdown",
   "metadata": {},
   "source": [
    "## Exercises"
   ]
  },
  {
   "cell_type": "markdown",
   "metadata": {},
   "source": [
    "### Exercise 4.1"
   ]
  },
  {
   "cell_type": "markdown",
   "metadata": {},
   "source": [
    "The cover price of a book is 24.95 EUR, but bookstores get a 40 percent discount. Shipping costs 3 EUR for the first copy and 75 cents for each additional copy. Calculate the total wholesale costs for 60 copies. "
   ]
  },
  {
   "cell_type": "code",
   "execution_count": null,
   "metadata": {},
   "outputs": [],
   "source": [
    "# Book store code.\n"
   ]
  },
  {
   "cell_type": "markdown",
   "metadata": {},
   "source": [
    "### Exercise 4.2"
   ]
  },
  {
   "cell_type": "markdown",
   "metadata": {},
   "source": [
    "Can you identify and explain the errors in the following lines of code BEFORE running them? Correct them."
   ]
  },
  {
   "cell_type": "code",
   "execution_count": null,
   "metadata": {},
   "outputs": [],
   "source": [
    "print( \"A message\" ).\n",
    "print( \"A message' )\n",
    "print( 'A messagef\"' )"
   ]
  },
  {
   "cell_type": "markdown",
   "metadata": {},
   "source": [
    "### Exercise 4.3"
   ]
  },
  {
   "cell_type": "markdown",
   "metadata": {},
   "source": [
    "Briefly explain the difference between a string, a float and an integer for your own reference."
   ]
  },
  {
   "cell_type": "markdown",
   "metadata": {},
   "source": [
    "### Exercise 4.4"
   ]
  },
  {
   "cell_type": "markdown",
   "metadata": {},
   "source": [
    "Create a print statement, that prints your name and your age."
   ]
  },
  {
   "cell_type": "code",
   "execution_count": null,
   "metadata": {},
   "outputs": [],
   "source": []
  }
 ],
 "metadata": {
  "kernelspec": {
   "display_name": "Python 3",
   "language": "python",
   "name": "python3"
  },
  "language_info": {
   "codemirror_mode": {
    "name": "ipython",
    "version": 3
   },
   "file_extension": ".py",
   "mimetype": "text/x-python",
   "name": "python",
   "nbconvert_exporter": "python",
   "pygments_lexer": "ipython3",
   "version": "3.6.5"
  }
 },
 "nbformat": 4,
 "nbformat_minor": 1
}
