{
 "cells": [
  {
   "cell_type": "markdown",
   "metadata": {},
   "source": [
    "# Chapter 8 - Iterations\n"
   ]
  },
  {
   "cell_type": "markdown",
   "metadata": {},
   "source": [
    "-------------------------------"
   ]
  },
  {
   "cell_type": "markdown",
   "metadata": {},
   "source": [
    "Computers do not get bored. If you want the computer to repeat a certain task hundreds of thousands of times, it does not protest. Humans hate too much repetition. Therefore, repetitious tasks should be performed by computers. All programming languages support repetitions. The general class of programming constructs that allow the definition of repetitions are called \"iterations\". A term which is even more common for such tasks is \"loops\".\n",
    "\n",
    "This chapter explains all you need to know about loops in Python. Make sure you take your time for this chapter, and work on it until you understand it completely. Loops are such a basic concept in programming that you need to understand them in all their details. Each and every chapter after this one needs loops."
   ]
  },
  {
   "cell_type": "markdown",
   "metadata": {},
   "source": [
    "---"
   ]
  },
  {
   "cell_type": "markdown",
   "metadata": {},
   "source": [
    "## `while` loop"
   ]
  },
  {
   "cell_type": "markdown",
   "metadata": {},
   "source": [
    "Suppose you want to print the first five multiples of number 23. With the material from the previous chapter, you would program that as follows:"
   ]
  },
  {
   "cell_type": "code",
   "execution_count": null,
   "metadata": {},
   "outputs": [],
   "source": [
    "print(1 * 23)\n",
    "print(2 * 23)\n",
    "print(3 * 23)\n",
    "print(4 * 23)\n",
    "print(5 * 23)\n"
   ]
  },
  {
   "cell_type": "markdown",
   "metadata": {},
   "source": [
    "But what if we want you to print the first 500 multiples? Are you going to create a block of code of more than 500 lines long? Surely there must be an easier way to do this?\n",
    "\n",
    "Of course there is. You can use a loop to do this. \n",
    "\n",
    "The first loop you will learn about is the `while` loop. A `while` statement is quite similar to an `if` statement. The syntax is:\n",
    "\n",
    "    while <boolean expression>:\n",
    "        <statements>\n",
    "\n",
    "Just like an `if` statement, the `while` statement tests a boolean expression, and if the expression evaluates to `True`, it executes the code block below it. However, contrary to the `if` statement, once the code block has finished, the code \"loops\" back to the boolean expression to test it again. If it still evaluates to `True`, the code block below it gets executed once more. And after it has finished, it loops back again, and again, and again...\n",
    "\n",
    "Note: if the boolean expression immediately evaluates to `False`, then the code block below the `while` is skipped completely, just like with an `if` statement."
   ]
  },
  {
   "cell_type": "markdown",
   "metadata": {},
   "source": [
    "### `while` loop, first example"
   ]
  },
  {
   "cell_type": "markdown",
   "metadata": {},
   "source": [
    "Let's take a simple example: we want to write a function that prints numbers 1 to 5. With a `while` loop, that can be done as follows:"
   ]
  },
  {
   "cell_type": "code",
   "execution_count": null,
   "metadata": {},
   "outputs": [],
   "source": [
    "def print_one_to_five():\n",
    "    num = 1\n",
    "    while num <= 5:\n",
    "        print( num )\n",
    "        num += 1\n",
    "    print( \"Done\" )\n",
    "    \n",
    "print_one_to_five()"
   ]
  },
  {
   "cell_type": "markdown",
   "metadata": {},
   "source": [
    "It is crucial that you understand this code, so let's discuss it step by step.\n",
    "\n",
    "The first line of the function initializes a variable `num`. This is the variable that the code will print, so it is initialized to `1`, as `1` is the first value that must be printed.\n",
    "\n",
    "Then the `while` loop starts. The boolean expression says `num <= 5`. Since `num` is `1`, and `1` is actually smaller than (or equal to) `5`, the boolean expression evaluates to `True`. Therefore, the code block below the `while` gets executed.\n",
    "\n",
    "The first line of the code block below the `while` prints the value of `num`, which is `1`. The second line adds `1` to the value of `num`, which makes `num` hold the value `2`. Then the code loops back to the boolean expression (i.e., the last line of the code, the printing of \"Done\", is not executed as it is not part of the loop and the loop has not finished yet).\n",
    "\n",
    "Since `num` is `2`, the boolean expression still evaluates to `True`. The code block gets executed once more. `2` is displayed, `num` gets the value `3`, and the code loops back to the boolean expression.\n",
    "\n",
    "Since `num` is `3`, the boolean expression still evaluates to `True`. The code block gets executed once more. `3` is displayed, `num` gets the value `4`, and the code loops back to the boolean expression.\n",
    "\n",
    "Since `num` is `4`, the boolean expression still evaluates to `True`. The code block gets executed once more. `4` is displayed, `num` gets the value `5`, and the code loops back to the boolean expression.\n",
    "\n",
    "Since `num` is `5`, the boolean expression still evaluates to `True` (because `5 <= 5`). The code block gets executed once more. `5` is displayed, `num` gets the value `6`, and the code loops back to the boolean expression.\n",
    "\n",
    "Since `num` is `6`, the boolean expression now evaluates to `False` (because `6` is bigger than `5`). Therefore, the code block gets skipped, and the code continues with the first line below the code block, which is the last line of the code. The word `Done` is printed, and the code ends.\n",
    "\n",
    "**Exercise**: Change the code above so that the function prints the numbers 1, 3, 5, 7, and 9."
   ]
  },
  {
   "cell_type": "markdown",
   "metadata": {},
   "source": [
    "### `while` loop, second example"
   ]
  },
  {
   "cell_type": "markdown",
   "metadata": {},
   "source": [
    "If you understand the first example, you probably also understand how to print the first five multiples of 23. This is implemented as follows:"
   ]
  },
  {
   "cell_type": "code",
   "execution_count": null,
   "metadata": {},
   "outputs": [],
   "source": [
    "def print_multiples_of_23():\n",
    "    count = 1\n",
    "    while count <= 5:\n",
    "        print( count*23 )\n",
    "        count += 1\n",
    "    print( \"Done\" )\n",
    "\n",
    "print_multiples_of_23()\n"
   ]
  },
  {
   "cell_type": "markdown",
   "metadata": {},
   "source": [
    "Study this code closely. variable `count` is used to count how often the code has gone through the loop. Since the loop must be done five times, `count` is started at `1` and the boolean expression for the loop continues until `count` is higher than `5`. Thus, in the loop `count` gets increased by `1` at the end of every cycle through the loop.\n",
    "\n",
    "We can also write the function as follows:"
   ]
  },
  {
   "cell_type": "code",
   "execution_count": null,
   "metadata": {},
   "outputs": [],
   "source": [
    "def print_multiples_of_23():\n",
    "    count = 0\n",
    "    while count < 5:\n",
    "        count += 1\n",
    "        print( count*23 )\n",
    "    print( \"Done\" )\n",
    "\n",
    "print_multiples_of_23()\n"
   ]
  },
  {
   "cell_type": "markdown",
   "metadata": {},
   "source": [
    "You may wonder why `count` is started at `0` and the boolean expression checks if `count < 5`. Why not start `count` at `1` and check if `count <= 5`? The reason is convention: programmers are used to start indices at `0`, and if they count, they count \"up to but not including\". When you continue with programming, you will find that most code sticks to this convention. Most standard programming constructs that use indices or count things apply this convention too. Therefore it is a good idea to get used to this convention, as it makes code easier to read.\n",
    "\n",
    "Note: The variable `count` is what programmers call a \"throw-away variable\". Its only purpose is to count how often the loop has been cycled through, and it has no real meaning before or after the loop. Programmers often choose a single-character variable name for such a variable, usually `i` or `j`. In this example we chose the name `count` because it is illustrative of what the variable does for the code, but a single-character name for this variable would have been acceptable.\n",
    "\n",
    "**Exercise**: Change the code block above so that the function also prints the total and the average of the five numbers."
   ]
  },
  {
   "cell_type": "markdown",
   "metadata": {},
   "source": [
    "### Endless loops"
   ]
  },
  {
   "cell_type": "markdown",
   "metadata": {},
   "source": [
    "The code below is supposed to start at number 1, and add up numbers, until it encounters a number that, when squared, is dividable by 1000. The code contains an error, though. See if you can spot it (without running the code!)."
   ]
  },
  {
   "cell_type": "code",
   "execution_count": null,
   "metadata": {},
   "outputs": [],
   "source": [
    "number = 1\n",
    "total = 0\n",
    "while (number * number) % 1000 != 0:\n",
    "    total += number\n",
    "print( \"Total is\", total )"
   ]
  },
  {
   "cell_type": "markdown",
   "metadata": {},
   "source": [
    "The heading of this subsection gave away the answer, of course: this code contains a loop that never terminates. If you run it, it looks like the program \"hangs\", i.e., sits there and does nothing. It is not doing nothing, it is actually highly active, but it is in a neverending addition. `number` starts at `1`, and is never increased in the loop, so the boolean expression will always be `True`. This is called an \"endless loop\", and it is the single one great danger in using `while` loops.\n",
    "\n",
    "If you did run this code, you can go the the \"Kernel\" menu and choose \"Interrupt\". If you ran the code without modifications, you will have to do that. \n",
    "\n",
    "If you did not spot that this is an example of an endless loop, you might have seen what happened if we had written code that prints something in the loop. Unfortunately, browsers tend not to handle notebooks that print a lot of stuff well, and you would probably need a reboot of your computer, or at least the shutdown of the browser via a task manager, to resolve the problem. \n",
    "\n",
    "Since every programmer writes endless loops by accident now and again, it is good practice when you program a loop to immediately add a statement to a loop that makes a change that is tested in the boolean expression, so that you do not forget about it.\n",
    "\n",
    "Should you still write an endless loop and have trouble interrupting the kernel, if you are on the notebook server the instructor can shut down your kernel for you.\n",
    "\n",
    "**Exercise**: Fix the code above so that it no longer is an endless loop."
   ]
  },
  {
   "cell_type": "markdown",
   "metadata": {},
   "source": [
    "### `while` loop practice exercises"
   ]
  },
  {
   "cell_type": "markdown",
   "metadata": {},
   "source": [
    "You should now practice a bit with simple `while` loops.\n",
    "\n",
    "**Exercise**: In the code block below, write a countdown function. It takes an integer parameter `count`, and counts down to zero, printing each number it encounters (e.g. 10, 9, 8, ...). It does not print `0`, instead it prints \"Blast off!\". The function does not return anything."
   ]
  },
  {
   "cell_type": "code",
   "execution_count": null,
   "metadata": {},
   "outputs": [],
   "source": [
    "def print_count_down(count):\n",
    "    #print stuff\n",
    "    \n",
    "print_count_down(10)\n"
   ]
  },
  {
   "cell_type": "markdown",
   "metadata": {},
   "source": [
    "**Exercise**: The factorial of a positive integer is that integer, multiplied by all positive integers that are lower (excluding zero). You write the factorial as the number with an exclamation mark after it. E.g., the factorial of 5 is `5! = 5 * 4 * 3 * 2 * 1 = 120`. Write a function that calculates the factorial of its (integer) parameter. Test your function for different parameter values, but do not use very large numbers as factorials grow exponentially. Hint: to do this with a `while` loop, you need at least one more variable."
   ]
  },
  {
   "cell_type": "code",
   "execution_count": null,
   "metadata": {},
   "outputs": [],
   "source": [
    "def factorial(number):\n",
    "    return #factorial of number\n",
    "\n",
    "\n",
    "print(factorial(5))"
   ]
  },
  {
   "cell_type": "markdown",
   "metadata": {},
   "source": [
    "---"
   ]
  },
  {
   "cell_type": "markdown",
   "metadata": {},
   "source": [
    "## `for` loop *"
   ]
  },
  {
   "cell_type": "markdown",
   "metadata": {},
   "source": [
    "If your low on time or energy, skip the section on 'for' loops. I do believe they are a crucial element of programming, but just knowing they exist, can be enough for now!\n",
    "\n",
    "\n",
    "An alternative way of implementing loops is by using a `for` loop. `for` loops tends to be easier and safer to use than `while` loops, but cannot be applied to all iteration problems. `while` loops are more general. In other words, everything that a `for` loop can do, a `while` loop can do too, but not the other way around.\n",
    "\n",
    "The syntax of a `for` loop is as follows:\n",
    "\n",
    "    for <variable> in <collection>:\n",
    "        <statements>\n",
    "\n",
    "A `for` loop gets presented with a collection of items, and it will process these items, in order, one by one. Every cycle through the loop will put one item in the variable given next to the `for`, and can then be used in the code block under the `for`. The variable does *not* need to exist before the `for` loop is encountered. If it does, it gets overwritten. It is a real variable, by the way, in the sense that it still exists after the loop has finished. It will contain the last value that it got assigned during the processing of the loop.\n",
    "\n",
    "At this point you might wonder what a \"collection\" is. There are many different kinds of collections in Python, and in this section we will introduce a few. In later chapters collections will be discussed in more detail."
   ]
  },
  {
   "cell_type": "markdown",
   "metadata": {},
   "source": [
    "### `for` loop with strings"
   ]
  },
  {
   "cell_type": "markdown",
   "metadata": {},
   "source": [
    "The only collection introduced until now is the string. A string is a collection of characters, e.g., the string \"banana\" is a collection of the characters \"b\", \"a\", \"n\", \"a\", \"n\", and \"a\", in that specific order. The following code loops through each of these letters:"
   ]
  },
  {
   "cell_type": "code",
   "execution_count": null,
   "metadata": {},
   "outputs": [],
   "source": [
    "for letter in \"banana\":\n",
    "    print( letter )\n",
    "print( \"Done\" )"
   ]
  },
  {
   "cell_type": "markdown",
   "metadata": {},
   "source": [
    "While this code is fairly trivial, let's go through it step by step.\n",
    "\n",
    "When the `for` loop is encountered, Python takes the first member of the collection (here, the first letter in the string \"banana\", which is \"b\") and puts it into the variable `letter`. It then executes the code block below `for`. The code block contains only one statement, which is the printing of `letter`. So the program prints \"b\", and then loops back to the `for`. \n",
    "\n",
    "Python then takes the next letter, which is an \"a\", and it executes the code block with `letter` being an \"a\". It then repeats this process for each of the remaining letters.\n",
    "\n",
    "Once all the letters have been used, the `for` loop ends, and Python executes the last line of the code, which is the printing of the word \"Done\".\n",
    "\n",
    "To be absolutely clear: In a `for` loop you do *not* have to write code that explicitly increases some kind of variable that then grabs the next letter, or something like that. The `for` statement handles that automatically: every time it is looped back to, it takes the next item from the collection. "
   ]
  },
  {
   "cell_type": "markdown",
   "metadata": {},
   "source": [
    "### `for` loop using a variable as collection"
   ]
  },
  {
   "cell_type": "markdown",
   "metadata": {},
   "source": [
    "In the code above, the literal string \"banana\" was used as the collection, but it could also be a variable that contains a string. For instance, the following code introduces a function that prints every letter in its string parameter:"
   ]
  },
  {
   "cell_type": "code",
   "execution_count": null,
   "metadata": {},
   "outputs": [],
   "source": [
    "def print_letters(text):\n",
    "    for letter in text:\n",
    "        print( letter )\n",
    "    print( \"Done\" )\n",
    "    \n",
    "print_letters(\"banana\")\n",
    "print_letters(\"apple\")"
   ]
  },
  {
   "cell_type": "markdown",
   "metadata": {},
   "source": [
    "You might wonder if this isn't dangerous. What happens if the programmer changes the contents of the variable `text` *in* the loop's code block? Let's try that out:"
   ]
  },
  {
   "cell_type": "code",
   "execution_count": null,
   "metadata": {},
   "outputs": [],
   "source": [
    "def print_letters(text):\n",
    "    for letter in text:\n",
    "        print( letter )\n",
    "        if letter == \"n\":\n",
    "            text = \"orange\"    \n",
    "    print( \"Done\" )\n",
    "    \n",
    "print_letters(\"banana\")"
   ]
  },
  {
   "cell_type": "markdown",
   "metadata": {},
   "source": [
    "As you can see when you run this code, changing the contents of the variable `text` in the loop has *no effect* on the loop's processing. The sequence of characters that the loop processes is only constituted once, when the `for` loop is first entered. This is a great feature of `for` loops, because it means they are *guaranteed* to end. No `for` loops are endless! \n",
    "\n",
    "Note that there is a conditional statement in the loop above. There is nothing that stops you from putting conditions in the code block for a loop. There is also nothing against putting loops in the code block for a condition, or even putting loops inside loops (more on that last option follows later in this chapter). As long as you stick to the syntactic requirements, you can use conditional statements and loops wherever you can write Python statements. "
   ]
  },
  {
   "cell_type": "markdown",
   "metadata": {},
   "source": [
    "### `for` loop using a range of numbers"
   ]
  },
  {
   "cell_type": "markdown",
   "metadata": {},
   "source": [
    "Python offers a `range()` function that generates a collection of sequential numbers, which is often used for `for` loops. The simplest call to `range()` has one parameter, which is a number. It will generate all integers, starting at zero, up to but not including the parameter."
   ]
  },
  {
   "cell_type": "code",
   "execution_count": null,
   "metadata": {},
   "outputs": [],
   "source": [
    "for x in range( 10 ):\n",
    "    print( x )"
   ]
  },
  {
   "cell_type": "markdown",
   "metadata": {},
   "source": [
    "`range()` can get multiple parameters. If you give two parameters, then the first will be the starting number (default is zero), while the second will be the \"up to but not including\" number. If you give three parameters, the third will be a step size (default is `1`). You can choose a negative step size if you want to count down. With a negative step size, make sure that the starting number is higher than the number that you want to count up to (or down to, in this case)."
   ]
  },
  {
   "cell_type": "code",
   "execution_count": null,
   "metadata": {},
   "outputs": [],
   "source": [
    "for x in range( 1, 11, 2 ):\n",
    "    print( x )"
   ]
  },
  {
   "cell_type": "markdown",
   "metadata": {},
   "source": [
    "**Exercise:** Change the three parameters above to observe their effect, until you fully understand the `range()` function.\n",
    "\n",
    "**Exercise:** Write a function that, using the `for` loop and `range()` function, takes two integer parameters `a` and `b`, and prints multiples of 3 starting at `a` and counting down to `b`."
   ]
  },
  {
   "cell_type": "code",
   "execution_count": null,
   "metadata": {},
   "outputs": [],
   "source": [
    "def print_multiple3(a,b):\n",
    "    #print multiples of 3, starting at a and counting down to b"
   ]
  },
  {
   "cell_type": "markdown",
   "metadata": {},
   "source": [
    "### `for` loop with manual collections"
   ]
  },
  {
   "cell_type": "markdown",
   "metadata": {
    "collapsed": true
   },
   "source": [
    "If you want to use a `for` loop to cycle through items in a collection that you create manually, you can do so by listing all your items between parentheses. This defines a \"tuple\" for the items of your collection. Tuples will be discussed later."
   ]
  },
  {
   "cell_type": "code",
   "execution_count": null,
   "metadata": {},
   "outputs": [],
   "source": [
    "for x in ( 10, 100, 1000, 10000 ):\n",
    "    print( x )"
   ]
  },
  {
   "cell_type": "markdown",
   "metadata": {},
   "source": [
    "Or:"
   ]
  },
  {
   "cell_type": "code",
   "execution_count": null,
   "metadata": {},
   "outputs": [],
   "source": [
    "for x in ( \"apple\", \"pear\", \"orange\", \"banana\", \"mango\", \"cherry\" ):\n",
    "    print( x )"
   ]
  },
  {
   "cell_type": "markdown",
   "metadata": {},
   "source": [
    "Your collection can even consist of mixed types."
   ]
  },
  {
   "cell_type": "markdown",
   "metadata": {},
   "source": [
    "### Practice with `for` loops"
   ]
  },
  {
   "cell_type": "markdown",
   "metadata": {},
   "source": [
    "To get strong grips on how to use `for` loops, do the following exercises.\n",
    "\n",
    "**Exercise**: You already created a function with a `while` loop that printed the first five multiples of 23. Create another code for this task, but now use a `for` loop."
   ]
  },
  {
   "cell_type": "code",
   "execution_count": null,
   "metadata": {},
   "outputs": [],
   "source": [
    "# first five multiples of 23.\n"
   ]
  },
  {
   "cell_type": "markdown",
   "metadata": {},
   "source": [
    "**Exercise**: Create a countdown function that starts at a certain count, and counts down to zero. Instead of zero, print \"Blast off!\". Use a `for` loop. "
   ]
  },
  {
   "cell_type": "code",
   "execution_count": null,
   "metadata": {},
   "outputs": [],
   "source": [
    "# Count down with for loop.\n"
   ]
  },
  {
   "cell_type": "markdown",
   "metadata": {},
   "source": [
    "---"
   ]
  },
  {
   "cell_type": "markdown",
   "metadata": {},
   "source": [
    "## Loop control statements"
   ]
  },
  {
   "cell_type": "markdown",
   "metadata": {},
   "source": [
    "There are three extra statements that help you control the flow in a loop. They are `else`, `break`, and `continue`."
   ]
  },
  {
   "cell_type": "markdown",
   "metadata": {},
   "source": [
    "### `else`"
   ]
  },
  {
   "cell_type": "markdown",
   "metadata": {},
   "source": [
    "Just like with an `if` statement, you can add an `else` statement to the end of a `while` or `for` loop. The code block for the `else` is executed whenever the loop ends, i.e., when the boolean expression for the `while` loop evaluates to `False`, or when the last item of the collection of the `for` loop is processed.\n",
    "\n",
    "Here is an example of using the `else` clause for a `while` loop:"
   ]
  },
  {
   "cell_type": "code",
   "execution_count": null,
   "metadata": {},
   "outputs": [],
   "source": [
    "def count_up(i):\n",
    "    while i < 5:\n",
    "        print( i )\n",
    "        i += 1\n",
    "    else:\n",
    "        print( \"The loop ends, i is now\", i )\n",
    "    print( \"Done\" )\n",
    "    \n",
    "count_up(1)"
   ]
  },
  {
   "cell_type": "markdown",
   "metadata": {},
   "source": [
    "And here is an example of using `else` for a `for` loop:"
   ]
  },
  {
   "cell_type": "code",
   "execution_count": null,
   "metadata": {},
   "outputs": [],
   "source": [
    "def print_fruits():\n",
    "    for fruit in ( \"apple\", \"orange\", \"strawberry\" ):\n",
    "        print( fruit )\n",
    "    else:\n",
    "        print( \"The loop ends, fruit is now\", fruit )\n",
    "    print( \"Done\" )   \n",
    "    \n",
    "print_fruits()"
   ]
  },
  {
   "cell_type": "markdown",
   "metadata": {},
   "source": [
    "---"
   ]
  },
  {
   "cell_type": "markdown",
   "metadata": {},
   "source": [
    "## Being smart about loops"
   ]
  },
  {
   "cell_type": "markdown",
   "metadata": {},
   "source": [
    "To complete this chapter, we discuss a few strategies on loop design."
   ]
  },
  {
   "cell_type": "markdown",
   "metadata": {},
   "source": [
    "### Processing data items one by one"
   ]
  },
  {
   "cell_type": "markdown",
   "metadata": {},
   "source": [
    "Usually, when a loop is applied, you are working through a long series of data items. Each cycle through the loop will process one of those data items. You then often need to remember something about the data items that you have processed so far, for which you need extra variables. You have to be smart in thinking about such variables.\n",
    "\n",
    "Take the following example: we need a function that takes ten integer parameters, and returns the largest (or smallest). Since you will have to process all the numbers, you have to think about a loop, and in particular, a loop wherein you have only one of the numbers available each cycle through the loop (but you will see them all before the loop ends). You must now think about variables that you can use to remember something each cycle through the loop, that allows you to determine, at the end, which number was the largest or the smallest. Which variables do you need?\n",
    "\n",
    "The answer, which comes easy to anyone who has been doing some programming, is that you need to remember, each cycle through the loop, which is the largest or smallest number *until now*. That means that every cycle through the loop you compare the new number with the variables in which you retain the largest or smallest, and replace them with the new number if that is appropriate. \n",
    "\n",
    "You will have to find good initial values for these variables. The largest and smallest need an appropriate value. The best solution in this case is to fill them with the first number, as that number is both the largest and the smallest at that point."
   ]
  },
  {
   "cell_type": "markdown",
   "metadata": {},
   "source": [
    "---"
   ]
  },
  {
   "cell_type": "markdown",
   "metadata": {},
   "source": [
    "---"
   ]
  },
  {
   "cell_type": "markdown",
   "metadata": {},
   "source": [
    "## What you learned"
   ]
  },
  {
   "cell_type": "markdown",
   "metadata": {},
   "source": [
    "In this chapter, you learned about:\n",
    "\n",
    "- What loops are\n",
    "- `while` loops\n",
    "- `for` loops\n",
    "- Endless loops"
   ]
  },
  {
   "cell_type": "markdown",
   "metadata": {},
   "source": [
    "-------"
   ]
  },
  {
   "cell_type": "markdown",
   "metadata": {},
   "source": [
    "## Exercises"
   ]
  },
  {
   "cell_type": "markdown",
   "metadata": {},
   "source": [
    "Since loops are incredibly important and students often have problems with them, we provide a number of exercises here and recommend that you do them all. You will learn a lot. In essence, almost every problem that can be solved using a while-loop, can be solved with a for-loop. If you do not understand any of the excersises bellow, feel free to skip (especially if you skipped the section on for-loops or if you're low on energy)."
   ]
  },
  {
   "cell_type": "markdown",
   "metadata": {},
   "source": [
    "### Exercise 8.1"
   ]
  },
  {
   "cell_type": "markdown",
   "metadata": {},
   "source": [
    "Write a loop that prints all the items in the list.It's up to you if it will be a while/for loop. It can not be a function. "
   ]
  },
  {
   "cell_type": "code",
   "execution_count": null,
   "metadata": {},
   "outputs": [],
   "source": [
    "list = [0,1,2,3,4,5,6,7,8,9,10]\n",
    "\n",
    "# Define your loop"
   ]
  },
  {
   "cell_type": "markdown",
   "metadata": {},
   "source": [
    "### Exercise 8.2"
   ]
  },
  {
   "cell_type": "markdown",
   "metadata": {},
   "source": [
    "Write a small counter, that counts from 0 to 5 using a loop. Don't forget to first make a variable. "
   ]
  },
  {
   "cell_type": "markdown",
   "metadata": {},
   "source": [
    "### Exercise 8.3"
   ]
  },
  {
   "cell_type": "markdown",
   "metadata": {},
   "source": [
    "Write and test three functions that return the largest, the smallest, and the number of dividables by 3 in a given collection of numbers. Use the algorithm described earlier in this chapter."
   ]
  },
  {
   "cell_type": "code",
   "execution_count": null,
   "metadata": {},
   "outputs": [],
   "source": [
    "def largest(number_collection):\n",
    "    return #the largest number in number_collection\n",
    "\n",
    "def smallest(number_collection):\n",
    "    return #the smallest number in number_collection\n",
    "\n",
    "def dividables_by3(number_collection):\n",
    "    return #the number of dividables by 3 in number_collection"
   ]
  },
  {
   "cell_type": "markdown",
   "metadata": {},
   "source": [
    "### Exercise 8.4"
   ]
  },
  {
   "cell_type": "markdown",
   "metadata": {},
   "source": [
    "\"99 bottles of beer\" is a traditional song in the United States and Canada. It is popular to sing on long trips, as it has a very repetitive format which is easy to memorize, and can take a long time to sing. The song's simple lyrics are as follows: \"99 bottles of beer on the wall, 99 bottles of beer. Take one down, pass it around, 98 bottles of beer on the wall.\" The same verse is repeated, each time with one fewer bottle. The song is completed when the singer or singers reach zero. Write a function that generates and prints all the verses of the song (though you might start a bit lower, for instance with 10 bottles). Make sure that your loop is not endless, and that you use the proper inflection for the word \"bottle\"."
   ]
  },
  {
   "cell_type": "code",
   "execution_count": null,
   "metadata": {},
   "outputs": [],
   "source": [
    "def bottle_song(bottles):\n",
    "    #print the song lyrics"
   ]
  },
  {
   "cell_type": "markdown",
   "metadata": {},
   "source": [
    "### Exercise 8.5*"
   ]
  },
  {
   "cell_type": "markdown",
   "metadata": {},
   "source": [
    "The Fibonacci sequence is a sequence of numbers that starts with 1, followed by 1 again. Every next number is the sum of the two previous numbers. I.e., the sequence starts with 1, 1, 2, 3, 5, 8, 13, 21,... Write a function that calculates and prints the Fibonacci sequence until the numbers get higher than a `maximum`."
   ]
  },
  {
   "cell_type": "code",
   "execution_count": null,
   "metadata": {},
   "outputs": [],
   "source": [
    "def print_fibonacci(maximum):\n",
    "    # print Fibonacci seri\n"
   ]
  },
  {
   "cell_type": "markdown",
   "metadata": {},
   "source": [
    "### Exercise 8.6*"
   ]
  },
  {
   "cell_type": "markdown",
   "metadata": {},
   "source": [
    "A prime number is a positive integer that is dividable by exactly two different numbers, namely 1 and itself. The lowest (and only even) prime number is 2. The first 10 prime numbers are 2, 3, 5, 7, 11, 13, 17, 19, 23, and 29. Write a function that returns `True` if its parameter is a prime number, and `False` otherwise. Hint: In a loop where you test the possible dividers of the number, you can conclude that the number is not prime as soon as you encounter a number other than 1 or the number itself that divides it. However, you can *only* conclude that it actually *is* prime after you have tested all possible dividers."
   ]
  },
  {
   "cell_type": "code",
   "execution_count": null,
   "metadata": {},
   "outputs": [],
   "source": [
    "def isPrime(number):\n",
    "    return #True if number is prime, False otherwise"
   ]
  },
  {
   "cell_type": "markdown",
   "metadata": {},
   "source": [
    "### Exercise 8.7*"
   ]
  },
  {
   "cell_type": "markdown",
   "metadata": {},
   "source": [
    "Write a function that prints all integers between the parameters `a` and `b` that can be written as the sum of two squares. Produce output in the form of `z = x**2 + y**2`, e.g., `58 = 3**2 + 7**2`. If a number occurs on the list with multiple *different* ways of writing it as the sum of two squares, that is acceptable. "
   ]
  },
  {
   "cell_type": "code",
   "execution_count": null,
   "metadata": {},
   "outputs": [],
   "source": [
    "def print_sum_squares(a,b):\n",
    "    # print sum of two squares.\n"
   ]
  }
 ],
 "metadata": {
  "kernelspec": {
   "display_name": "Python 3",
   "language": "python",
   "name": "python3"
  },
  "language_info": {
   "codemirror_mode": {
    "name": "ipython",
    "version": 3
   },
   "file_extension": ".py",
   "mimetype": "text/x-python",
   "name": "python",
   "nbconvert_exporter": "python",
   "pygments_lexer": "ipython3",
   "version": "3.8.3"
  }
 },
 "nbformat": 4,
 "nbformat_minor": 1
}
