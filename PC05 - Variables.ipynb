{
 "cells": [
  {
   "cell_type": "markdown",
   "metadata": {},
   "source": [
    "# Chapter 5 - Variables"
   ]
  },
  {
   "cell_type": "markdown",
   "metadata": {},
   "source": [
    "-------------------------------"
   ]
  },
  {
   "cell_type": "markdown",
   "metadata": {},
   "source": [
    "When working with program code, very often you are designing a procedure (or \"algorithm\") that solves a problem in a general way. In the previous chapter one of the exercises asked you to calculate the wholesale price for a stack of books, for a given book price and a given number of books. The code you wrote did not solve this problem for a general case, but only for the specific case of 60 books costing 24.95 per book. If you want to write code that solves problems in a more general way, you need to use variables that store values. "
   ]
  },
  {
   "cell_type": "markdown",
   "metadata": {},
   "source": [
    "---"
   ]
  },
  {
   "cell_type": "markdown",
   "metadata": {},
   "source": [
    "## Variables and values"
   ]
  },
  {
   "cell_type": "markdown",
   "metadata": {},
   "source": [
    "A variable is a labelled place in the computer memory that you can use to store a value in. You can choose the label yourself, and it is usually called the \"variable name\".\n",
    "\n",
    "To create a variable (i.e., choose the variable name), you must \"assign\" it a value. The assign operator is the equal symbol (`=`). To the left of it you put the variable name, and to the right of it you put the value that you want to store in the variable. This is best illustrated with an example:"
   ]
  },
  {
   "cell_type": "code",
   "execution_count": null,
   "metadata": {},
   "outputs": [],
   "source": [
    "x = 5\n",
    "print( x )"
   ]
  },
  {
   "cell_type": "markdown",
   "metadata": {},
   "source": [
    "In the code block above, two things happen. First, we create a variable with the name `x` and give it a value, in this case `5`. This is called an \"assignment\". We then display the contents of the variable `x`, using `print()`. Note that `print()` does not display the letter `x`, but actually displays the value that was assigned to `x`.\n",
    "\n",
    "The variable `x` behaves pretty much like a box on which you write an `x` with a thick, black marker to be able to find it later. You can put something in the box, and then look into the box to see what you put in (though only one thing at a time will fit in the box). You can refer to the contents of the box by using the name written on the box. The term \"variable\" means the variable name, i.e., the letter `x` on the box. The term \"value\" means the value that is stored in the variable, i.e., the contents of the box.\n",
    "\n",
    "To the right of the assign operator you can place anything that results in a value. Therefore, it does not need to be a single number. It can be, for instance, a calculation, a string, or a call to a function that results in a value (such as the `int()` function)."
   ]
  },
  {
   "cell_type": "markdown",
   "metadata": {},
   "source": [
    "**Exercise**: Create a calculation that determines the number of seconds in a week. Copy this calculation in the box below, assigning it to `x`. Run the code."
   ]
  },
  {
   "cell_type": "code",
   "execution_count": null,
   "metadata": {},
   "outputs": [],
   "source": [
    "x = #insert your calculation and assign it to variable x\n",
    "print( x )"
   ]
  },
  {
   "cell_type": "markdown",
   "metadata": {},
   "source": [
    "When you assign a value to a variable name in your program, the first time you do that for a specific variable name, it creates the variable. If later in the program you assign another value to the same variable name, it \"overwrites\" the previous value. In the box metaphor: you empty the box and put something else in it. A variable always holds the value that was last assigned to it."
   ]
  },
  {
   "cell_type": "code",
   "execution_count": null,
   "metadata": {},
   "outputs": [],
   "source": [
    "x = 5\n",
    "print( x )\n",
    "x = 7 * 9 + 13   # overwrite the previous value that was stored in x\n",
    "print( x )\n",
    "x = \"I would like to purchase that orange inflatable beach ball and that small bucket and spade.\"\n",
    "print( x )\n",
    "x = int( 15 / 4 ) - 27\n",
    "print( x )"
   ]
  },
  {
   "cell_type": "markdown",
   "metadata": {},
   "source": [
    "Once a variable is created (and thus has a value), you can use it in your code where you otherwise would use values. You can, for instance, use it in calculations.  "
   ]
  },
  {
   "cell_type": "code",
   "execution_count": null,
   "metadata": {},
   "outputs": [],
   "source": [
    "x = 2\n",
    "y = 3\n",
    "print( \"x =\", x )\n",
    "print( \"y =\", y )\n",
    "print( \"x * y =\", x * y )\n",
    "print( \"x + y =\", x + y )"
   ]
  },
  {
   "cell_type": "markdown",
   "metadata": {},
   "source": [
    "You may copy the contents from one variable to another, using the assignment operator. "
   ]
  },
  {
   "cell_type": "code",
   "execution_count": null,
   "metadata": {},
   "outputs": [],
   "source": [
    "x = 2\n",
    "y = 3\n",
    "print( \"x =\", x, \"and y =\", y )\n",
    "\n",
    "# We now want to swap the values of x and y.\n",
    "# We do this using a third variable z as an intermediary storage.\n",
    "\n",
    "z = x\n",
    "x = y\n",
    "y = z\n",
    "print( \"x =\", x, \"and y =\", y )"
   ]
  },
  {
   "cell_type": "markdown",
   "metadata": {},
   "source": [
    "When you assign something to a variable, you might even use the variable itself on the right-hand side of the assignment operator, provided it was created earlier. The right-hand side of an assignment is always evaluated completely before the actual assignment takes place."
   ]
  },
  {
   "cell_type": "code",
   "execution_count": null,
   "metadata": {},
   "outputs": [],
   "source": [
    "x = 2\n",
    "print( x )\n",
    "x = x + 3\n",
    "print( x )"
   ]
  },
  {
   "cell_type": "markdown",
   "metadata": {},
   "source": [
    "Note that a variable must be created before you can use it! Running the following code will result in an error, because `days_in_a_year` has not (yet) been created before we use it on the first line:"
   ]
  },
  {
   "cell_type": "code",
   "execution_count": null,
   "metadata": {},
   "outputs": [],
   "source": [
    "print( days_in_a_year )\n",
    "days_in_a_year = 365"
   ]
  },
  {
   "cell_type": "markdown",
   "metadata": {},
   "source": [
    "---"
   ]
  },
  {
   "cell_type": "markdown",
   "metadata": {},
   "source": [
    "## Variable names"
   ]
  },
  {
   "cell_type": "markdown",
   "metadata": {},
   "source": [
    "So far, we have only used variables called `x`, `y`, and `z` (and one erroneous `days_in_a_year`). However, you are free to choose the names of your variables as you like them, provided that you follow a few simple rules, namely:\n",
    "\n",
    "- A variable name must consist of only letters, digits, and/or underscores (`_`)\n",
    "- A variable name must start with a letter or an underscore\n",
    "- A variable name should not be a reserved word\n",
    "\n",
    "\"Reserved words\" are:\n",
    "\n",
    "<div class=\"verbatim\"><pre>\n",
    "and       del       from      not       while    \n",
    "as        elif      global    or        with     \n",
    "assert    else      if        pass      yield    \n",
    "break     except    import    print              \n",
    "class     exec      in        raise              \n",
    "continue  finally   is        return             \n",
    "def       for       lambda    try</pre></div>\n",
    "\n",
    "You can use capitals and lower case letters in variable names, but you should realize that variable names are case sensitive, i.e., the variable `world` is not the same as the variable `World`."
   ]
  },
  {
   "cell_type": "markdown",
   "metadata": {},
   "source": [
    "### Conventions"
   ]
  },
  {
   "cell_type": "code",
   "execution_count": null,
   "metadata": {},
   "outputs": [],
   "source": [
    "a = 3.14159265\n",
    "b = 7.5\n",
    "c = 8.25\n",
    "d = a * b * b * c / 3\n",
    "print( d )"
   ]
  },
  {
   "cell_type": "markdown",
   "metadata": {},
   "source": [
    "Do you understand what this code does? You probably see that `a` seems to be an approximation of pi, but what is `d` supposed to be? \n",
    "\n",
    "This code calculates the volume of a cone. You probably would not have guessed that, but that is what it does. Now we ask you to change the code to calculate the volume of a cone that is 4 meters high. What change will you make? If height is part of the calculation, it is probably `b` or `c`. But which is it? Maybe if you know a bit of math and you look at the calculation of `d`, you realize that `b` is squared in this calculation, which seems to refer to the base of the cone, which is a circle. So it is probably `c`. But you cannot be sure.\n",
    "\n",
    "Now look at the following, equivalent code:"
   ]
  },
  {
   "cell_type": "code",
   "execution_count": 1,
   "metadata": {},
   "outputs": [
    {
     "name": "stdout",
     "output_type": "stream",
     "text": [
      " Volume of this cone is:\n",
      "485.96511304687505\n"
     ]
    }
   ],
   "source": [
    "pi = 3.14159265\n",
    "radius = 7.5\n",
    "height = 8.25\n",
    "volume_of_cone = pi * radius * radius * height / 3\n",
    "print( \" Volume of this cone is:\")\n",
    "print( volume_of_cone )"
   ]
  },
  {
   "cell_type": "markdown",
   "metadata": {},
   "source": [
    "This is much more readable, right? If we asked you to look at this code and explain what it does, and make the requested change, you wouldn't hesitate in answering."
   ]
  },
  {
   "cell_type": "markdown",
   "metadata": {},
   "source": [
    "### Practicing with variable names"
   ]
  },
  {
   "cell_type": "markdown",
   "metadata": {},
   "source": [
    "**Exercise**: In the code block below, the value 1 is assigned to a number of (potential) variable names. Some of these are legal, others are not. Please try to identify the illegal variable names, and explain why they are illegal. Comment out (i.e., put a hash mark in front of) the illegal assignments and run the code to check that it works. You should have five assignment statements remaining."
   ]
  },
  {
   "cell_type": "code",
   "execution_count": null,
   "metadata": {},
   "outputs": [],
   "source": [
    "classification = 1   # 1\n",
    "Classification = 1   # 2\n",
    "cla$$ification = 1   # 3\n",
    "class1f1cat10n = 1   # 4\n",
    "1classification = 1  # 5\n",
    "_classification = 1  # 6\n",
    "class = 1            # 7\n",
    "Class = 1            # 8"
   ]
  },
  {
   "cell_type": "markdown",
   "metadata": {},
   "source": [
    "**Answer**: The third, fifth, and seventh assignments are illegal. The third because it does not consist of only letters, digits, and underscores. The fifth because it starts with a digit. The seventh because it is a reserved word (fortunately, syntax hightlighting makes such reserved words stand out). While the others are legal, according to convention the sixth should be avoided because it starts with an underscore, and the second and eighth too, as they contain capitals. The eighth is the worst in this respect, as it also looks like a reserved word."
   ]
  },
  {
   "cell_type": "markdown",
   "metadata": {},
   "source": [
    "### Constants"
   ]
  },
  {
   "cell_type": "markdown",
   "metadata": {},
   "source": [
    "Many programming languages offer the ability to create \"constants\", which are values assigned to a variable which can no longer be changed after the value has been first assigned. It is convention in most such languages that the name of a constant is written in all capitals. Constants can be useful to make code more readable. For instance, to calculate the total of a bill of 24.95 EUR with a 15% service charge, you can use: "
   ]
  },
  {
   "cell_type": "code",
   "execution_count": null,
   "metadata": {},
   "outputs": [],
   "source": [
    "total = 24.95\n",
    "final_total = int( 100 * total * 1.15 ) / 100\n",
    "print( final_total )"
   ]
  },
  {
   "cell_type": "markdown",
   "metadata": {},
   "source": [
    "However, it is more readable to write:"
   ]
  },
  {
   "cell_type": "code",
   "execution_count": null,
   "metadata": {},
   "outputs": [],
   "source": [
    "SERVICE_CHARGE = 1.15\n",
    "CENTS_IN_EURO = 100\n",
    "\n",
    "total = 24.95\n",
    "final_total = int( CENTS_IN_EURO * total * SERVICE_CHARGE ) / CENTS_IN_EURO\n",
    "print( final_total )"
   ]
  },
  {
   "cell_type": "markdown",
   "metadata": {},
   "source": [
    "Not only is it more readable, but it also makes the code easier to change should the service charge be calculated differently in the future. Especially if the service charge occurs in the code multiple times, if it is defined just once as a constant at the top of the code, it can be easily found and changed. For example, when you want to increase the service charge, you only have to change one variable, instead of many! \n"
   ]
  },
  {
   "cell_type": "markdown",
   "metadata": {},
   "source": [
    "---"
   ]
  },
  {
   "cell_type": "markdown",
   "metadata": {},
   "source": [
    "## Shorthand operators*"
   ]
  },
  {
   "cell_type": "markdown",
   "metadata": {},
   "source": [
    "Using the operators you have learned about above, you can change the variables in your code as many times as you want. You can assign new values to existing variables. Very often, you want to make changes to existing variables. For instance, it is common in code that you want to add 1 to a number (you will find out why in a later chapter). Since this occurs fairly often, Python offers some shorthand notation to deal with changes to variables.\n",
    "\n",
    "The following code:"
   ]
  },
  {
   "cell_type": "code",
   "execution_count": null,
   "metadata": {},
   "outputs": [],
   "source": [
    "number_of_bananas = 100\n",
    "number_of_bananas = number_of_bananas + 1\n",
    "print( number_of_bananas )"
   ]
  },
  {
   "cell_type": "markdown",
   "metadata": {},
   "source": [
    "is equivalent to:"
   ]
  },
  {
   "cell_type": "code",
   "execution_count": null,
   "metadata": {},
   "outputs": [],
   "source": [
    "number_of_bananas = 100\n",
    "number_of_bananas += 1\n",
    "print( number_of_bananas )"
   ]
  },
  {
   "cell_type": "markdown",
   "metadata": {},
   "source": [
    "The difference is in the second line. If you want to add something to a variable, you can write `+=` as the assignment operator and to the right-hand side of the `+=` the thing that you want to add to the variable. This saves you the trouble of repeating the variable name at the right-hand side, and tends to make your code more readable (because programmers expect you to code \"adding something to an existing variable\" with the `+=` operator). "
   ]
  },
  {
   "cell_type": "markdown",
   "metadata": {},
   "source": [
    "---"
   ]
  },
  {
   "cell_type": "markdown",
   "metadata": {},
   "source": [
    "## What you learned"
   ]
  },
  {
   "cell_type": "markdown",
   "metadata": {},
   "source": [
    "In this chapter, you learned about:\n",
    "-  What variables are\n",
    "-  Assigning a value to a variable\n",
    "-  Legal names for variables\n",
    "-  Good names for variables\n",
    "-  Shorthand statements for changing variable values*\n",
    "-  Code commentary using #"
   ]
  },
  {
   "cell_type": "markdown",
   "metadata": {},
   "source": [
    "-------"
   ]
  },
  {
   "cell_type": "markdown",
   "metadata": {},
   "source": [
    "## Exercises"
   ]
  },
  {
   "cell_type": "markdown",
   "metadata": {},
   "source": [
    "### Exercise 5.1"
   ]
  },
  {
   "cell_type": "markdown",
   "metadata": {},
   "source": [
    "Define three variables `var1`, `var2` and `var3`. Calculate the average of these variables and assign it to `average`. Print the average. Add three comments."
   ]
  },
  {
   "cell_type": "code",
   "execution_count": null,
   "metadata": {},
   "outputs": [],
   "source": [
    "# average\n"
   ]
  },
  {
   "cell_type": "markdown",
   "metadata": {},
   "source": [
    "### Exercise 5.2"
   ]
  },
  {
   "cell_type": "markdown",
   "metadata": {},
   "source": [
    "Write code that can compute the surface of a circle, using the variables `radius` and `pi = 3.14159`. The formula, in case you do not know, is radius times radius times `pi`. Print the outcome of your program as follows: 'The surface area of a circle with radius ... is ...'."
   ]
  },
  {
   "cell_type": "code",
   "execution_count": null,
   "metadata": {},
   "outputs": [],
   "source": [
    "# circle code\n"
   ]
  },
  {
   "cell_type": "markdown",
   "metadata": {},
   "source": [
    "### Exercise 5.3 **"
   ]
  },
  {
   "cell_type": "markdown",
   "metadata": {},
   "source": [
    "Write code that classifies a given amount of money (which you store in a variable `amount`), specified in cents, as greater monetary units. Your code lists the monetary equivalent in dollars (100 ct), quarters (25 ct), dimes (10 ct), nickels (5 ct), and pennies (1 ct). Your program should report the maximum number of dollars that fit in the amount, then the maximum number of quarters that fit in the remainder after you subtract the dollars, then the maximum number of dimes that fit in the remainder after you subtract the dollars and quarters, and so on for nickels and pennies. The result is that you express the amount as the minimum number of coins needed.  "
   ]
  },
  {
   "cell_type": "code",
   "execution_count": null,
   "metadata": {},
   "outputs": [],
   "source": [
    "# cashier code\n",
    "amount = 1156\n"
   ]
  }
 ],
 "metadata": {
  "kernelspec": {
   "display_name": "Python 3",
   "language": "python",
   "name": "python3"
  },
  "language_info": {
   "codemirror_mode": {
    "name": "ipython",
    "version": 3
   },
   "file_extension": ".py",
   "mimetype": "text/x-python",
   "name": "python",
   "nbconvert_exporter": "python",
   "pygments_lexer": "ipython3",
   "version": "3.6.5"
  }
 },
 "nbformat": 4,
 "nbformat_minor": 1
}
